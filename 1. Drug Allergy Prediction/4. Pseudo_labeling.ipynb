{
 "cells": [
  {
   "cell_type": "code",
   "execution_count": 1,
   "metadata": {},
   "outputs": [],
   "source": [
    "# Basic library\n",
    "import os\n",
    "import pandas as pd\n",
    "import numpy as np\n",
    "import matplotlib.pyplot as plt\n",
    "import seaborn as sns\n",
    "from time import time\n",
    "from collections import Counter\n",
    "\n",
    "# Feature Selection\n",
    "from scipy.stats import chi2_contingency\n",
    "\n",
    "# Data preprocessing\n",
    "from sklearn.model_selection import train_test_split\n",
    "\n",
    "import pickle\n",
    "\n",
    "# Evaluation\n",
    "# from sklearn.model_selection import cross_val_score, cross_val_predict\n",
    "from sklearn.metrics import classification_report, confusion_matrix\n",
    "from sklearn.metrics import average_precision_score, roc_auc_score\n",
    "from sklearn.metrics import accuracy_score, f1_score, recall_score, precision_score"
   ]
  },
  {
   "cell_type": "code",
   "execution_count": 2,
   "metadata": {},
   "outputs": [
    {
     "name": "stdout",
     "output_type": "stream",
     "text": [
      "Python 3.7.5 (default, Oct 25 2019, 10:52:18) \n",
      "[Clang 4.0.1 (tags/RELEASE_401/final)]\n",
      "Numpy 1.17.3\n",
      "Matplotlib 3.0.3\n",
      "Seaborn 0.9.0\n",
      "tqdm 4.40.0\n",
      "scikit-learn 0.22.1\n",
      "pandas 0.25.3\n"
     ]
    }
   ],
   "source": [
    "import sys\n",
    "import numpy as np\n",
    "import matplotlib\n",
    "import seaborn as sns\n",
    "import tqdm\n",
    "import sklearn\n",
    "import pandas\n",
    "\n",
    "\n",
    "print ( \"Python\", sys.version )\n",
    "print ( \"Numpy\", np.__version__ )\n",
    "print ( \"Matplotlib\", matplotlib.__version__ )\n",
    "print ( \"Seaborn\", sns.__version__ )\n",
    "print ( \"tqdm\", tqdm.__version__ )\n",
    "print ( \"scikit-learn\", sklearn.__version__ )\n",
    "print ( \"pandas\", pandas.__version__ )\n",
    "\n",
    "\n"
   ]
  },
  {
   "cell_type": "code",
   "execution_count": 3,
   "metadata": {},
   "outputs": [],
   "source": [
    "# Set dataframe display\n",
    "pd.set_option('display.max_columns', None)  # default = 20\n",
    "pd.set_option('display.expand_frame_repr', False) # default = True\n",
    "pd.set_option('display.max_colwidth', -1) # default = 50\n",
    "pd.set_option('display.max_rows', None) # default = 60\n",
    "pd.set_option('display.float_format', lambda x: '%.3f' % x)\n",
    "\n",
    "import warnings\n",
    "warnings.filterwarnings(\"ignore\",category=DeprecationWarning)\n",
    "warnings.simplefilter(action='ignore', category=FutureWarning)"
   ]
  },
  {
   "cell_type": "code",
   "execution_count": 4,
   "metadata": {},
   "outputs": [],
   "source": [
    "def percent_countplot(df, col_name, col_hue = None, order_by_value = False, topn = 0, dropna = True,\n",
    "                      orient = 'v', annot_percent = True, figsize = (14,8)):\n",
    "    \n",
    "    import matplotlib\n",
    "    import matplotlib.pyplot as plt\n",
    "    import seaborn as sns\n",
    "\n",
    "    # Fill Paramter\n",
    "    fs = 16 # Font size\n",
    "    x_data = df.copy()\n",
    "    x_col = col_name # column to count\n",
    "    x_hue = col_hue # For divide column\n",
    "    tittle = 'Distribution by '+x_col\n",
    "\n",
    "    matplotlib.rc('xtick', labelsize = fs-2)     \n",
    "    matplotlib.rc('ytick', labelsize = fs-2)\n",
    "    fig = plt.figure(figsize= figsize)\n",
    "    \n",
    "    data_col = x_data   \n",
    "        \n",
    "    # topn > 0 we will combine the rest as \"Other\"\n",
    "    if topn:\n",
    "        counts = data_col[x_col].value_counts()\n",
    "        topn_name = counts.nlargest(topn).index\n",
    "        data_col[x_col] = data_col[x_col].where(data_col[x_col].isin(topn_name), other = 'Other')\n",
    "    elif topn == 0:\n",
    "        topn = data_col[x_col].nunique()\n",
    "        \n",
    "    # arrange order by value or index?\n",
    "    if order_by_value :\n",
    "        counts = data_col[x_col].value_counts()\n",
    "        max_count = max(counts) # for adjust text alignment\n",
    "    else:\n",
    "        if str in list(map(type,data_col[x_col])) or not dropna:\n",
    "            data_col[x_col] = data_col[x_col].astype(str)\n",
    "        counts = data_col[x_col].value_counts().sort_index()\n",
    "        max_count = max(counts.iloc[:topn]) # for adjust text alignment\n",
    "        \n",
    "    if orient == 'v':\n",
    "        ax = sns.countplot(x = x_col, hue = x_hue, data= data_col, order = counts.iloc[:topn+1].index)\n",
    "        ax.set_xlabel(x_col, color = 'r', fontsize = fs, fontweight='bold')\n",
    "        ax.set_ylabel('Frequency', color = 'b', fontsize = fs, fontweight='bold')\n",
    "        # Set rotation of xticks if name is too long\n",
    "        data_col[x_col] = data_col[x_col].astype(str)\n",
    "        xrot = 15 if max(list(map(len,data_col[x_col].unique()))) > 10 else 0\n",
    "        ax.get_yaxis().set_major_formatter(plt.FuncFormatter(lambda x, loc: \"{:,}\".format(int(x))))\n",
    "    elif orient == 'h':\n",
    "        ax = sns.countplot(y = x_col, hue = x_hue, data= data_col, order = counts.iloc[:topn+1].index)\n",
    "        ax.set_ylabel(x_col, color = 'b', fontsize = fs, fontweight='bold')\n",
    "        ax.set_xlabel('Frequency', color = 'r', fontsize = fs, fontweight='bold')\n",
    "        xrot = 0\n",
    "        ax.get_xaxis().set_major_formatter(plt.FuncFormatter(lambda x, loc: \"{:,}\".format(int(x))))\n",
    "        \n",
    "    total_count = sum(counts) # for calculate percentage\n",
    "    # print(counts)\n",
    "    \n",
    "    # fig.suptitle('test title', fontsize=12)\n",
    "    ax.set_title(tittle, fontsize = fs, fontweight='bold' )\n",
    "\n",
    "    plt.xticks(rotation=xrot, color='r', size=16)\n",
    "    plt.yticks(rotation=0, color='b', size=16)\n",
    "    \n",
    "    if x_hue == None and orient == 'v':\n",
    "        for i, v in enumerate(counts[:topn+1]):\n",
    "            ax.text(x = i, y=v + max_count*0.01 , s='{:,}'.format(v), horizontalalignment='center', color='black', fontweight='bold')\n",
    "            if annot_percent:\n",
    "                ax.text(x = i, y= v/2, s=str('{:.2f}'.format(v*100/total_count))+'%',\n",
    "                        color='yellow', fontweight='bold', size = 14,\n",
    "                        horizontalalignment='center', \n",
    "                        verticalalignment='center' \n",
    "                        )\n",
    "    elif x_hue == None and orient == 'h':\n",
    "        for i, v in enumerate(counts[:topn+1]):\n",
    "            ax.text(x = v + max_count*0.03, y=i , s='{:,}'.format(v), horizontalalignment='center', color='black', fontweight='bold')\n",
    "            if annot_percent:\n",
    "                ax.text(x = v/2, y=i , s=str('{:.2f}'.format(v*100/total_count))+'%',\n",
    "                        color='yellow', fontweight='bold', size = 14,\n",
    "                        horizontalalignment='center', \n",
    "                        verticalalignment='center' \n",
    "                        )\n",
    "    return ax"
   ]
  },
  {
   "cell_type": "code",
   "execution_count": 5,
   "metadata": {},
   "outputs": [
    {
     "data": {
      "text/html": [
       "<div>\n",
       "<style scoped>\n",
       "    .dataframe tbody tr th:only-of-type {\n",
       "        vertical-align: middle;\n",
       "    }\n",
       "\n",
       "    .dataframe tbody tr th {\n",
       "        vertical-align: top;\n",
       "    }\n",
       "\n",
       "    .dataframe thead th {\n",
       "        text-align: right;\n",
       "    }\n",
       "</style>\n",
       "<table border=\"1\" class=\"dataframe\">\n",
       "  <thead>\n",
       "    <tr style=\"text-align: right;\">\n",
       "      <th></th>\n",
       "      <th>Patient_ID</th>\n",
       "      <th>Gender</th>\n",
       "      <th>Age_Year</th>\n",
       "      <th>ELISpot_Control</th>\n",
       "      <th>ELISpot_Result</th>\n",
       "      <th>Naranjo_Category</th>\n",
       "      <th>Steroid_Usage</th>\n",
       "      <th>Underlying_Condition_A</th>\n",
       "      <th>Underlying_Condition_B</th>\n",
       "      <th>Underlying_Condition_C</th>\n",
       "      <th>Underlying_Condition_D</th>\n",
       "      <th>Underlying_Condition_E</th>\n",
       "      <th>Suspicion_Score</th>\n",
       "      <th>Allergic_Reaction_Group</th>\n",
       "      <th>Drug_Group</th>\n",
       "      <th>Drug_Rechallenge_Result</th>\n",
       "      <th>Ex_Time_group</th>\n",
       "    </tr>\n",
       "  </thead>\n",
       "  <tbody>\n",
       "    <tr>\n",
       "      <th>0</th>\n",
       "      <td>2</td>\n",
       "      <td>1</td>\n",
       "      <td>26</td>\n",
       "      <td>2504</td>\n",
       "      <td>0.000</td>\n",
       "      <td>1.000</td>\n",
       "      <td>1</td>\n",
       "      <td>0.000</td>\n",
       "      <td>0</td>\n",
       "      <td>0</td>\n",
       "      <td>0.000</td>\n",
       "      <td>0.000</td>\n",
       "      <td>2</td>\n",
       "      <td>2.000</td>\n",
       "      <td>2</td>\n",
       "      <td>nan</td>\n",
       "      <td>0</td>\n",
       "    </tr>\n",
       "    <tr>\n",
       "      <th>1</th>\n",
       "      <td>7</td>\n",
       "      <td>0</td>\n",
       "      <td>75</td>\n",
       "      <td>1868</td>\n",
       "      <td>51.000</td>\n",
       "      <td>2.000</td>\n",
       "      <td>0</td>\n",
       "      <td>0.000</td>\n",
       "      <td>0</td>\n",
       "      <td>0</td>\n",
       "      <td>0.000</td>\n",
       "      <td>0.000</td>\n",
       "      <td>2</td>\n",
       "      <td>6.000</td>\n",
       "      <td>4</td>\n",
       "      <td>1.000</td>\n",
       "      <td>0</td>\n",
       "    </tr>\n",
       "    <tr>\n",
       "      <th>2</th>\n",
       "      <td>13</td>\n",
       "      <td>0</td>\n",
       "      <td>81</td>\n",
       "      <td>1617</td>\n",
       "      <td>10.000</td>\n",
       "      <td>1.000</td>\n",
       "      <td>1</td>\n",
       "      <td>1.000</td>\n",
       "      <td>0</td>\n",
       "      <td>0</td>\n",
       "      <td>1.000</td>\n",
       "      <td>1.000</td>\n",
       "      <td>2</td>\n",
       "      <td>5.000</td>\n",
       "      <td>1</td>\n",
       "      <td>nan</td>\n",
       "      <td>0</td>\n",
       "    </tr>\n",
       "    <tr>\n",
       "      <th>3</th>\n",
       "      <td>13</td>\n",
       "      <td>0</td>\n",
       "      <td>81</td>\n",
       "      <td>1617</td>\n",
       "      <td>10.000</td>\n",
       "      <td>1.000</td>\n",
       "      <td>1</td>\n",
       "      <td>1.000</td>\n",
       "      <td>0</td>\n",
       "      <td>0</td>\n",
       "      <td>1.000</td>\n",
       "      <td>1.000</td>\n",
       "      <td>2</td>\n",
       "      <td>5.000</td>\n",
       "      <td>3</td>\n",
       "      <td>nan</td>\n",
       "      <td>0</td>\n",
       "    </tr>\n",
       "    <tr>\n",
       "      <th>4</th>\n",
       "      <td>18</td>\n",
       "      <td>1</td>\n",
       "      <td>60</td>\n",
       "      <td>3136</td>\n",
       "      <td>0.000</td>\n",
       "      <td>1.000</td>\n",
       "      <td>0</td>\n",
       "      <td>0.000</td>\n",
       "      <td>0</td>\n",
       "      <td>0</td>\n",
       "      <td>1.000</td>\n",
       "      <td>1.000</td>\n",
       "      <td>3</td>\n",
       "      <td>8.000</td>\n",
       "      <td>1</td>\n",
       "      <td>nan</td>\n",
       "      <td>0</td>\n",
       "    </tr>\n",
       "  </tbody>\n",
       "</table>\n",
       "</div>"
      ],
      "text/plain": [
       "   Patient_ID  Gender  Age_Year  ELISpot_Control  ELISpot_Result  Naranjo_Category  Steroid_Usage  Underlying_Condition_A  Underlying_Condition_B  Underlying_Condition_C  Underlying_Condition_D  Underlying_Condition_E  Suspicion_Score  Allergic_Reaction_Group  Drug_Group  Drug_Rechallenge_Result  Ex_Time_group\n",
       "0  2           1       26        2504            0.000           1.000              1             0.000                    0                       0                      0.000                   0.000                    2               2.000                     2          nan                       0            \n",
       "1  7           0       75        1868            51.000          2.000              0             0.000                    0                       0                      0.000                   0.000                    2               6.000                     4          1.000                     0            \n",
       "2  13          0       81        1617            10.000          1.000              1             1.000                    0                       0                      1.000                   1.000                    2               5.000                     1          nan                       0            \n",
       "3  13          0       81        1617            10.000          1.000              1             1.000                    0                       0                      1.000                   1.000                    2               5.000                     3          nan                       0            \n",
       "4  18          1       60        3136            0.000           1.000              0             0.000                    0                       0                      1.000                   1.000                    3               8.000                     1          nan                       0            "
      ]
     },
     "execution_count": 5,
     "metadata": {},
     "output_type": "execute_result"
    }
   ],
   "source": [
    "df = pd.read_csv('DrugAllergyKaggle_v3_050720_Imputed.csv')\n",
    "# df = df.sort_values(by = 'Patient_ID').reset_index(drop=True); \n",
    "df.head()"
   ]
  },
  {
   "cell_type": "code",
   "execution_count": 6,
   "metadata": {},
   "outputs": [
    {
     "name": "stdout",
     "output_type": "stream",
     "text": [
      "Rows     :  798\n",
      "Columns  :  17\n",
      "\n",
      "Features : \n",
      " ['Patient_ID', 'Gender', 'Age_Year', 'ELISpot_Control', 'ELISpot_Result', 'Naranjo_Category', 'Steroid_Usage', 'Underlying_Condition_A', 'Underlying_Condition_B', 'Underlying_Condition_C', 'Underlying_Condition_D', 'Underlying_Condition_E', 'Suspicion_Score', 'Allergic_Reaction_Group', 'Drug_Group', 'Drug_Rechallenge_Result', 'Ex_Time_group']\n",
      "\n",
      "Missing values :   684\n",
      "\n",
      "Unique values :  \n",
      " Patient_ID                 298\n",
      "Gender                     2  \n",
      "Age_Year                   94 \n",
      "ELISpot_Control            260\n",
      "ELISpot_Result             77 \n",
      "Naranjo_Category           4  \n",
      "Steroid_Usage              2  \n",
      "Underlying_Condition_A     2  \n",
      "Underlying_Condition_B     2  \n",
      "Underlying_Condition_C     2  \n",
      "Underlying_Condition_D     2  \n",
      "Underlying_Condition_E     2  \n",
      "Suspicion_Score            3  \n",
      "Allergic_Reaction_Group    8  \n",
      "Drug_Group                 8  \n",
      "Drug_Rechallenge_Result    2  \n",
      "Ex_Time_group              4  \n",
      "dtype: int64\n",
      "\n",
      "Total Unique values :  772\n"
     ]
    }
   ],
   "source": [
    "print (\"Rows     : \" ,df.shape[0])\n",
    "print (\"Columns  : \" ,df.shape[1])\n",
    "print (\"\\nFeatures : \\n\" ,df.columns.tolist())\n",
    "print (\"\\nMissing values :  \", df.isnull().sum().values.sum())\n",
    "n_uniq = df.nunique()\n",
    "print (\"\\nUnique values :  \\n\",n_uniq)\n",
    "print (\"\\nTotal Unique values :  {:,}\".format(n_uniq.values.sum()))"
   ]
  },
  {
   "cell_type": "code",
   "execution_count": 7,
   "metadata": {},
   "outputs": [
    {
     "data": {
      "image/png": "[encoded data removed]",
      "text/plain": [
       "<Figure size 864x576 with 1 Axes>"
      ]
     },
     "metadata": {
      "needs_background": "light"
     },
     "output_type": "display_data"
    }
   ],
   "source": [
    "plt.figure(figsize=(12,8))\n",
    "sns.heatmap(df.isnull(), cbar=False, cmap = 'cividis');"
   ]
  },
  {
   "cell_type": "code",
   "execution_count": 8,
   "metadata": {},
   "outputs": [
    {
     "data": {
      "text/plain": [
       "<matplotlib.axes._subplots.AxesSubplot at 0x1a2096bb90>"
      ]
     },
     "execution_count": 8,
     "metadata": {},
     "output_type": "execute_result"
    },
    {
     "data": {
      "image/png": "[encoded data removed]",
      "text/plain": [
       "<Figure size 1584x1584 with 2 Axes>"
      ]
     },
     "metadata": {
      "needs_background": "light"
     },
     "output_type": "display_data"
    }
   ],
   "source": [
    "plt.figure(figsize=(22,22)) \n",
    "sns.set(font_scale=1.4)\n",
    "plt.title('Figure 1: Pearson Correlation Matrix')\n",
    "sns.heatmap(df.corr(), annot=True, cmap='BuGn')"
   ]
  },
  {
   "cell_type": "code",
   "execution_count": 9,
   "metadata": {},
   "outputs": [
    {
     "data": {
      "text/plain": [
       "<matplotlib.axes._subplots.AxesSubplot at 0x1a201496d0>"
      ]
     },
     "execution_count": 9,
     "metadata": {},
     "output_type": "execute_result"
    },
    {
     "data": {
      "image/png": "[encoded data removed]",
      "text/plain": [
       "<Figure size 1008x576 with 1 Axes>"
      ]
     },
     "metadata": {},
     "output_type": "display_data"
    }
   ],
   "source": [
    "percent_countplot(df, col_name= 'Drug_Rechallenge_Result')"
   ]
  },
  {
   "cell_type": "code",
   "execution_count": 10,
   "metadata": {},
   "outputs": [
    {
     "data": {
      "text/plain": [
       "nan      684\n",
       "0.000    86 \n",
       "1.000    28 \n",
       "Name: Drug_Rechallenge_Result, dtype: int64"
      ]
     },
     "execution_count": 10,
     "metadata": {},
     "output_type": "execute_result"
    }
   ],
   "source": [
    "df.Drug_Rechallenge_Result.value_counts(dropna=False)"
   ]
  },
  {
   "cell_type": "markdown",
   "metadata": {},
   "source": [
    "# One Hot Encoding"
   ]
  },
  {
   "cell_type": "code",
   "execution_count": 11,
   "metadata": {},
   "outputs": [],
   "source": [
    "# Before we use 'get_dummies' function we have to convert data type of all feature to be 'category' \n",
    "def cvt_type(df, col_list, dtype = 'category'):\n",
    "    for col in col_list:\n",
    "        df[col] = df[col].astype(int).astype('category')\n",
    "    return df"
   ]
  },
  {
   "cell_type": "code",
   "execution_count": 12,
   "metadata": {},
   "outputs": [
    {
     "name": "stdout",
     "output_type": "stream",
     "text": [
      "<class 'pandas.core.frame.DataFrame'>\n",
      "RangeIndex: 798 entries, 0 to 797\n",
      "Data columns (total 17 columns):\n",
      "Patient_ID                 798 non-null int64\n",
      "Gender                     798 non-null category\n",
      "Age_Year                   798 non-null int64\n",
      "ELISpot_Control            798 non-null int64\n",
      "ELISpot_Result             798 non-null float64\n",
      "Naranjo_Category           798 non-null category\n",
      "Steroid_Usage              798 non-null category\n",
      "Underlying_Condition_A     798 non-null category\n",
      "Underlying_Condition_B     798 non-null category\n",
      "Underlying_Condition_C     798 non-null category\n",
      "Underlying_Condition_D     798 non-null category\n",
      "Underlying_Condition_E     798 non-null category\n",
      "Suspicion_Score            798 non-null category\n",
      "Allergic_Reaction_Group    798 non-null category\n",
      "Drug_Group                 798 non-null category\n",
      "Drug_Rechallenge_Result    114 non-null float64\n",
      "Ex_Time_group              798 non-null category\n",
      "dtypes: category(12), float64(2), int64(3)\n",
      "memory usage: 42.5 KB\n"
     ]
    }
   ],
   "source": [
    "cat_col = ['Gender', 'Naranjo_Category', 'Steroid_Usage', 'Underlying_Condition_A',\n",
    "       'Underlying_Condition_B', 'Underlying_Condition_C',\n",
    "       'Underlying_Condition_D', 'Underlying_Condition_E', 'Suspicion_Score',\n",
    "       'Allergic_Reaction_Group', 'Drug_Group','Ex_Time_group']\n",
    "\n",
    "df_cat = cvt_type(df, col_list=cat_col)\n",
    "df_cat.info()"
   ]
  },
  {
   "cell_type": "code",
   "execution_count": 13,
   "metadata": {},
   "outputs": [
    {
     "name": "stdout",
     "output_type": "stream",
     "text": [
      "Unique value\n",
      "Gender                   : [1 0]\n",
      "Naranjo_Category         : [1 2 0 3]\n",
      "Steroid_Usage            : [1 0]\n",
      "Underlying_Condition_A   : [0 1]\n",
      "Underlying_Condition_B   : [0 1]\n",
      "Underlying_Condition_C   : [0 1]\n",
      "Underlying_Condition_D   : [0 1]\n",
      "Underlying_Condition_E   : [0 1]\n",
      "Suspicion_Score          : [2 3 1]\n",
      "Allergic_Reaction_Group  : [2 6 5 8 1 3 7 4]\n",
      "Drug_Group               : [2 4 1 3 6 7 5 8]\n",
      "Ex_Time_group            : [0 1 3 2]\n"
     ]
    }
   ],
   "source": [
    "print('Unique value')\n",
    "for col in cat_col:\n",
    "    print('{0:25}: {1:}'.format(col, df[col].unique().ravel()))"
   ]
  },
  {
   "cell_type": "code",
   "execution_count": 14,
   "metadata": {},
   "outputs": [
    {
     "name": "stdout",
     "output_type": "stream",
     "text": [
      "(798, 46)\n"
     ]
    },
    {
     "data": {
      "text/html": [
       "<div>\n",
       "<style scoped>\n",
       "    .dataframe tbody tr th:only-of-type {\n",
       "        vertical-align: middle;\n",
       "    }\n",
       "\n",
       "    .dataframe tbody tr th {\n",
       "        vertical-align: top;\n",
       "    }\n",
       "\n",
       "    .dataframe thead th {\n",
       "        text-align: right;\n",
       "    }\n",
       "</style>\n",
       "<table border=\"1\" class=\"dataframe\">\n",
       "  <thead>\n",
       "    <tr style=\"text-align: right;\">\n",
       "      <th></th>\n",
       "      <th>Patient_ID</th>\n",
       "      <th>Age_Year</th>\n",
       "      <th>ELISpot_Control</th>\n",
       "      <th>ELISpot_Result</th>\n",
       "      <th>Drug_Rechallenge_Result</th>\n",
       "      <th>Gender_0</th>\n",
       "      <th>Gender_1</th>\n",
       "      <th>Naranjo_Category_0</th>\n",
       "      <th>Naranjo_Category_1</th>\n",
       "      <th>Naranjo_Category_2</th>\n",
       "      <th>Naranjo_Category_3</th>\n",
       "      <th>Steroid_Usage_0</th>\n",
       "      <th>Steroid_Usage_1</th>\n",
       "      <th>Underlying_Condition_A_0</th>\n",
       "      <th>Underlying_Condition_A_1</th>\n",
       "      <th>Underlying_Condition_B_0</th>\n",
       "      <th>Underlying_Condition_B_1</th>\n",
       "      <th>Underlying_Condition_C_0</th>\n",
       "      <th>Underlying_Condition_C_1</th>\n",
       "      <th>Underlying_Condition_D_0</th>\n",
       "      <th>Underlying_Condition_D_1</th>\n",
       "      <th>Underlying_Condition_E_0</th>\n",
       "      <th>Underlying_Condition_E_1</th>\n",
       "      <th>Suspicion_Score_1</th>\n",
       "      <th>Suspicion_Score_2</th>\n",
       "      <th>Suspicion_Score_3</th>\n",
       "      <th>Allergic_Reaction_Group_1</th>\n",
       "      <th>Allergic_Reaction_Group_2</th>\n",
       "      <th>Allergic_Reaction_Group_3</th>\n",
       "      <th>Allergic_Reaction_Group_4</th>\n",
       "      <th>Allergic_Reaction_Group_5</th>\n",
       "      <th>Allergic_Reaction_Group_6</th>\n",
       "      <th>Allergic_Reaction_Group_7</th>\n",
       "      <th>Allergic_Reaction_Group_8</th>\n",
       "      <th>Drug_Group_1</th>\n",
       "      <th>Drug_Group_2</th>\n",
       "      <th>Drug_Group_3</th>\n",
       "      <th>Drug_Group_4</th>\n",
       "      <th>Drug_Group_5</th>\n",
       "      <th>Drug_Group_6</th>\n",
       "      <th>Drug_Group_7</th>\n",
       "      <th>Drug_Group_8</th>\n",
       "      <th>Ex_Time_group_0</th>\n",
       "      <th>Ex_Time_group_1</th>\n",
       "      <th>Ex_Time_group_2</th>\n",
       "      <th>Ex_Time_group_3</th>\n",
       "    </tr>\n",
       "  </thead>\n",
       "  <tbody>\n",
       "    <tr>\n",
       "      <th>0</th>\n",
       "      <td>2</td>\n",
       "      <td>26</td>\n",
       "      <td>2504</td>\n",
       "      <td>0.000</td>\n",
       "      <td>nan</td>\n",
       "      <td>0</td>\n",
       "      <td>1</td>\n",
       "      <td>0</td>\n",
       "      <td>1</td>\n",
       "      <td>0</td>\n",
       "      <td>0</td>\n",
       "      <td>0</td>\n",
       "      <td>1</td>\n",
       "      <td>1</td>\n",
       "      <td>0</td>\n",
       "      <td>1</td>\n",
       "      <td>0</td>\n",
       "      <td>1</td>\n",
       "      <td>0</td>\n",
       "      <td>1</td>\n",
       "      <td>0</td>\n",
       "      <td>1</td>\n",
       "      <td>0</td>\n",
       "      <td>0</td>\n",
       "      <td>1</td>\n",
       "      <td>0</td>\n",
       "      <td>0</td>\n",
       "      <td>1</td>\n",
       "      <td>0</td>\n",
       "      <td>0</td>\n",
       "      <td>0</td>\n",
       "      <td>0</td>\n",
       "      <td>0</td>\n",
       "      <td>0</td>\n",
       "      <td>0</td>\n",
       "      <td>1</td>\n",
       "      <td>0</td>\n",
       "      <td>0</td>\n",
       "      <td>0</td>\n",
       "      <td>0</td>\n",
       "      <td>0</td>\n",
       "      <td>0</td>\n",
       "      <td>1</td>\n",
       "      <td>0</td>\n",
       "      <td>0</td>\n",
       "      <td>0</td>\n",
       "    </tr>\n",
       "    <tr>\n",
       "      <th>1</th>\n",
       "      <td>7</td>\n",
       "      <td>75</td>\n",
       "      <td>1868</td>\n",
       "      <td>51.000</td>\n",
       "      <td>1.000</td>\n",
       "      <td>1</td>\n",
       "      <td>0</td>\n",
       "      <td>0</td>\n",
       "      <td>0</td>\n",
       "      <td>1</td>\n",
       "      <td>0</td>\n",
       "      <td>1</td>\n",
       "      <td>0</td>\n",
       "      <td>1</td>\n",
       "      <td>0</td>\n",
       "      <td>1</td>\n",
       "      <td>0</td>\n",
       "      <td>1</td>\n",
       "      <td>0</td>\n",
       "      <td>1</td>\n",
       "      <td>0</td>\n",
       "      <td>1</td>\n",
       "      <td>0</td>\n",
       "      <td>0</td>\n",
       "      <td>1</td>\n",
       "      <td>0</td>\n",
       "      <td>0</td>\n",
       "      <td>0</td>\n",
       "      <td>0</td>\n",
       "      <td>0</td>\n",
       "      <td>0</td>\n",
       "      <td>1</td>\n",
       "      <td>0</td>\n",
       "      <td>0</td>\n",
       "      <td>0</td>\n",
       "      <td>0</td>\n",
       "      <td>0</td>\n",
       "      <td>1</td>\n",
       "      <td>0</td>\n",
       "      <td>0</td>\n",
       "      <td>0</td>\n",
       "      <td>0</td>\n",
       "      <td>1</td>\n",
       "      <td>0</td>\n",
       "      <td>0</td>\n",
       "      <td>0</td>\n",
       "    </tr>\n",
       "    <tr>\n",
       "      <th>2</th>\n",
       "      <td>13</td>\n",
       "      <td>81</td>\n",
       "      <td>1617</td>\n",
       "      <td>10.000</td>\n",
       "      <td>nan</td>\n",
       "      <td>1</td>\n",
       "      <td>0</td>\n",
       "      <td>0</td>\n",
       "      <td>1</td>\n",
       "      <td>0</td>\n",
       "      <td>0</td>\n",
       "      <td>0</td>\n",
       "      <td>1</td>\n",
       "      <td>0</td>\n",
       "      <td>1</td>\n",
       "      <td>1</td>\n",
       "      <td>0</td>\n",
       "      <td>1</td>\n",
       "      <td>0</td>\n",
       "      <td>0</td>\n",
       "      <td>1</td>\n",
       "      <td>0</td>\n",
       "      <td>1</td>\n",
       "      <td>0</td>\n",
       "      <td>1</td>\n",
       "      <td>0</td>\n",
       "      <td>0</td>\n",
       "      <td>0</td>\n",
       "      <td>0</td>\n",
       "      <td>0</td>\n",
       "      <td>1</td>\n",
       "      <td>0</td>\n",
       "      <td>0</td>\n",
       "      <td>0</td>\n",
       "      <td>1</td>\n",
       "      <td>0</td>\n",
       "      <td>0</td>\n",
       "      <td>0</td>\n",
       "      <td>0</td>\n",
       "      <td>0</td>\n",
       "      <td>0</td>\n",
       "      <td>0</td>\n",
       "      <td>1</td>\n",
       "      <td>0</td>\n",
       "      <td>0</td>\n",
       "      <td>0</td>\n",
       "    </tr>\n",
       "    <tr>\n",
       "      <th>3</th>\n",
       "      <td>13</td>\n",
       "      <td>81</td>\n",
       "      <td>1617</td>\n",
       "      <td>10.000</td>\n",
       "      <td>nan</td>\n",
       "      <td>1</td>\n",
       "      <td>0</td>\n",
       "      <td>0</td>\n",
       "      <td>1</td>\n",
       "      <td>0</td>\n",
       "      <td>0</td>\n",
       "      <td>0</td>\n",
       "      <td>1</td>\n",
       "      <td>0</td>\n",
       "      <td>1</td>\n",
       "      <td>1</td>\n",
       "      <td>0</td>\n",
       "      <td>1</td>\n",
       "      <td>0</td>\n",
       "      <td>0</td>\n",
       "      <td>1</td>\n",
       "      <td>0</td>\n",
       "      <td>1</td>\n",
       "      <td>0</td>\n",
       "      <td>1</td>\n",
       "      <td>0</td>\n",
       "      <td>0</td>\n",
       "      <td>0</td>\n",
       "      <td>0</td>\n",
       "      <td>0</td>\n",
       "      <td>1</td>\n",
       "      <td>0</td>\n",
       "      <td>0</td>\n",
       "      <td>0</td>\n",
       "      <td>0</td>\n",
       "      <td>0</td>\n",
       "      <td>1</td>\n",
       "      <td>0</td>\n",
       "      <td>0</td>\n",
       "      <td>0</td>\n",
       "      <td>0</td>\n",
       "      <td>0</td>\n",
       "      <td>1</td>\n",
       "      <td>0</td>\n",
       "      <td>0</td>\n",
       "      <td>0</td>\n",
       "    </tr>\n",
       "    <tr>\n",
       "      <th>4</th>\n",
       "      <td>18</td>\n",
       "      <td>60</td>\n",
       "      <td>3136</td>\n",
       "      <td>0.000</td>\n",
       "      <td>nan</td>\n",
       "      <td>0</td>\n",
       "      <td>1</td>\n",
       "      <td>0</td>\n",
       "      <td>1</td>\n",
       "      <td>0</td>\n",
       "      <td>0</td>\n",
       "      <td>1</td>\n",
       "      <td>0</td>\n",
       "      <td>1</td>\n",
       "      <td>0</td>\n",
       "      <td>1</td>\n",
       "      <td>0</td>\n",
       "      <td>1</td>\n",
       "      <td>0</td>\n",
       "      <td>0</td>\n",
       "      <td>1</td>\n",
       "      <td>0</td>\n",
       "      <td>1</td>\n",
       "      <td>0</td>\n",
       "      <td>0</td>\n",
       "      <td>1</td>\n",
       "      <td>0</td>\n",
       "      <td>0</td>\n",
       "      <td>0</td>\n",
       "      <td>0</td>\n",
       "      <td>0</td>\n",
       "      <td>0</td>\n",
       "      <td>0</td>\n",
       "      <td>1</td>\n",
       "      <td>1</td>\n",
       "      <td>0</td>\n",
       "      <td>0</td>\n",
       "      <td>0</td>\n",
       "      <td>0</td>\n",
       "      <td>0</td>\n",
       "      <td>0</td>\n",
       "      <td>0</td>\n",
       "      <td>1</td>\n",
       "      <td>0</td>\n",
       "      <td>0</td>\n",
       "      <td>0</td>\n",
       "    </tr>\n",
       "  </tbody>\n",
       "</table>\n",
       "</div>"
      ],
      "text/plain": [
       "   Patient_ID  Age_Year  ELISpot_Control  ELISpot_Result  Drug_Rechallenge_Result  Gender_0  Gender_1  Naranjo_Category_0  Naranjo_Category_1  Naranjo_Category_2  Naranjo_Category_3  Steroid_Usage_0  Steroid_Usage_1  Underlying_Condition_A_0  Underlying_Condition_A_1  Underlying_Condition_B_0  Underlying_Condition_B_1  Underlying_Condition_C_0  Underlying_Condition_C_1  Underlying_Condition_D_0  Underlying_Condition_D_1  Underlying_Condition_E_0  Underlying_Condition_E_1  Suspicion_Score_1  Suspicion_Score_2  Suspicion_Score_3  Allergic_Reaction_Group_1  Allergic_Reaction_Group_2  Allergic_Reaction_Group_3  Allergic_Reaction_Group_4  Allergic_Reaction_Group_5  Allergic_Reaction_Group_6  Allergic_Reaction_Group_7  Allergic_Reaction_Group_8  Drug_Group_1  Drug_Group_2  Drug_Group_3  Drug_Group_4  Drug_Group_5  Drug_Group_6  Drug_Group_7  Drug_Group_8  Ex_Time_group_0  Ex_Time_group_1  Ex_Time_group_2  Ex_Time_group_3\n",
       "0  2           26        2504            0.000           nan                       0         1         0                   1                   0                   0                   0                1                1                         0                         1                         0                         1                         0                         1                         0                         1                         0                         0                  1                  0                  0                          1                          0                          0                          0                          0                          0                          0                          0             1             0             0             0             0             0             0             1                0                0                0              \n",
       "1  7           75        1868            51.000          1.000                     1         0         0                   0                   1                   0                   1                0                1                         0                         1                         0                         1                         0                         1                         0                         1                         0                         0                  1                  0                  0                          0                          0                          0                          0                          1                          0                          0                          0             0             0             1             0             0             0             0             1                0                0                0              \n",
       "2  13          81        1617            10.000          nan                       1         0         0                   1                   0                   0                   0                1                0                         1                         1                         0                         1                         0                         0                         1                         0                         1                         0                  1                  0                  0                          0                          0                          0                          1                          0                          0                          0                          1             0             0             0             0             0             0             0             1                0                0                0              \n",
       "3  13          81        1617            10.000          nan                       1         0         0                   1                   0                   0                   0                1                0                         1                         1                         0                         1                         0                         0                         1                         0                         1                         0                  1                  0                  0                          0                          0                          0                          1                          0                          0                          0                          0             0             1             0             0             0             0             0             1                0                0                0              \n",
       "4  18          60        3136            0.000           nan                       0         1         0                   1                   0                   0                   1                0                1                         0                         1                         0                         1                         0                         0                         1                         0                         1                         0                  0                  1                  0                          0                          0                          0                          0                          0                          0                          1                          1             0             0             0             0             0             0             0             1                0                0                0              "
      ]
     },
     "execution_count": 14,
     "metadata": {},
     "output_type": "execute_result"
    }
   ],
   "source": [
    "# Get dummies\n",
    "df_encoded = pd.get_dummies(df_cat, prefix_sep='_', drop_first=False)\n",
    "print(df_encoded.shape)\n",
    "df_encoded.head()"
   ]
  },
  {
   "cell_type": "markdown",
   "metadata": {},
   "source": [
    "# Split data to train and test set"
   ]
  },
  {
   "cell_type": "code",
   "execution_count": 15,
   "metadata": {},
   "outputs": [
    {
     "data": {
      "text/plain": [
       "(684, 46)"
      ]
     },
     "execution_count": 15,
     "metadata": {},
     "output_type": "execute_result"
    }
   ],
   "source": [
    "df_data = df_encoded.dropna()\n",
    "NaN_idx = ~df_encoded.index.isin(df_data.index) # Store [True, False] array\n",
    "# NaN_index = df_encoded[~df_encoded.index.isin(df_data.index)].index # Store index\n",
    "df_NaN = df_encoded[NaN_idx] \n",
    "df_NaN.shape"
   ]
  },
  {
   "cell_type": "code",
   "execution_count": 16,
   "metadata": {},
   "outputs": [
    {
     "data": {
      "text/plain": [
       "77"
      ]
     },
     "execution_count": 16,
     "metadata": {},
     "output_type": "execute_result"
    }
   ],
   "source": [
    "df_data.Patient_ID.nunique()"
   ]
  },
  {
   "cell_type": "code",
   "execution_count": 62,
   "metadata": {},
   "outputs": [
    {
     "name": "stdout",
     "output_type": "stream",
     "text": [
      "(20, 46)\n"
     ]
    },
    {
     "data": {
      "text/plain": [
       "0.000    10\n",
       "1.000    10\n",
       "Name: Drug_Rechallenge_Result, dtype: int64"
      ]
     },
     "execution_count": 62,
     "metadata": {},
     "output_type": "execute_result"
    }
   ],
   "source": [
    "df_test_pos = df_data[df_data.Drug_Rechallenge_Result == 1].sample(10,random_state=7)\n",
    "df_test_neg = df_data[df_data.Drug_Rechallenge_Result == 0].sample(10,random_state=7)\n",
    "df_test = pd.concat([df_test_pos,df_test_neg])\n",
    "df_test_idx = df_test_pos.index.tolist() + df_test_neg.index.tolist()\n",
    "print(df_test.shape)\n",
    "df_test.Drug_Rechallenge_Result.value_counts()"
   ]
  },
  {
   "cell_type": "code",
   "execution_count": 61,
   "metadata": {},
   "outputs": [],
   "source": [
    "df_test.to_csv('Drug_allergy_test_set.csv', index=False)"
   ]
  },
  {
   "cell_type": "code",
   "execution_count": 18,
   "metadata": {},
   "outputs": [
    {
     "name": "stdout",
     "output_type": "stream",
     "text": [
      "(94, 46)\n"
     ]
    },
    {
     "data": {
      "text/plain": [
       "0.000    76\n",
       "1.000    18\n",
       "Name: Drug_Rechallenge_Result, dtype: int64"
      ]
     },
     "execution_count": 18,
     "metadata": {},
     "output_type": "execute_result"
    }
   ],
   "source": [
    "df_train = df_data[~df_data.index.isin(df_test_idx)]\n",
    "print(df_train.shape)\n",
    "df_train.Drug_Rechallenge_Result.value_counts()"
   ]
  },
  {
   "cell_type": "code",
   "execution_count": 19,
   "metadata": {},
   "outputs": [
    {
     "data": {
      "text/plain": [
       "13"
      ]
     },
     "execution_count": 19,
     "metadata": {},
     "output_type": "execute_result"
    }
   ],
   "source": [
    "# Look whether it has same patient in both train and test set\n",
    "df_train.Patient_ID.isin(df_test.Patient_ID).sum()"
   ]
  },
  {
   "cell_type": "markdown",
   "metadata": {},
   "source": [
    "# Fit Model"
   ]
  },
  {
   "cell_type": "code",
   "execution_count": 20,
   "metadata": {},
   "outputs": [],
   "source": [
    "# Training set\n",
    "X_encoded = df_train.drop(['Drug_Rechallenge_Result','Patient_ID'], axis=1)\n",
    "y_data = df_train[['Drug_Rechallenge_Result']]\n",
    "\n",
    "# Test set \n",
    "X_encoded_test = df_test.drop(['Drug_Rechallenge_Result','Patient_ID'], axis=1)\n",
    "y_data_test = df_test[['Drug_Rechallenge_Result']]"
   ]
  },
  {
   "cell_type": "raw",
   "metadata": {},
   "source": [
    "# Load the model to disk\n",
    "filename = './Model/LogReg_gs_with_bal_acc_false_intcp.pkl'\n",
    "Logreg_Model = pickle.load(open(filename,\"rb\"))"
   ]
  },
  {
   "cell_type": "raw",
   "metadata": {},
   "source": [
    "best_params = Logreg_Model.best_params_"
   ]
  },
  {
   "cell_type": "code",
   "execution_count": 21,
   "metadata": {},
   "outputs": [
    {
     "data": {
      "text/plain": [
       "LogisticRegression(C=1.0, class_weight=None, dual=False, fit_intercept=True,\n",
       "                   intercept_scaling=1, l1_ratio=None, max_iter=100,\n",
       "                   multi_class='auto', n_jobs=None, penalty='l2',\n",
       "                   random_state=None, solver='lbfgs', tol=0.0001, verbose=0,\n",
       "                   warm_start=False)"
      ]
     },
     "execution_count": 21,
     "metadata": {},
     "output_type": "execute_result"
    }
   ],
   "source": [
    "from sklearn.linear_model import LogisticRegression\n",
    "LogisticRegression()"
   ]
  },
  {
   "cell_type": "code",
   "execution_count": 22,
   "metadata": {},
   "outputs": [],
   "source": [
    "# Logistic Regression\n",
    "def LogReg_HPTune_w_OverSam(X, y, verbose = 0):\n",
    "    \"\"\"\n",
    "    Purpose\n",
    "    ----------\n",
    "    Choosing a set of optimal hyperparameters for a Logistic Regression Classifier\n",
    "\n",
    "    Parameters\n",
    "    ----------\n",
    "    X: Data set with all feature or predictor\n",
    "    y: Data set with Class\n",
    "    verbose: 0 mean not show summary of tuning\n",
    "             1 mean show summary of tuning\n",
    "    Returns:\n",
    "    ----------\n",
    "    Returns grid search model of Logistic Regression Classifier with tuned hyperparameter\n",
    "    \"\"\"  \n",
    "    from sklearn.linear_model import LogisticRegression\n",
    "    from sklearn.model_selection import GridSearchCV, RandomizedSearchCV\n",
    "    \n",
    "    # Oversampling\n",
    "    X, y = makeOverSamplesADASYN(X,y)\n",
    "    \n",
    "    # Logistic Regression Classifier\n",
    "    LogReg_clf = LogisticRegression(random_state = 7, max_iter=1000, fit_intercept=False)\n",
    "    \n",
    "    # Create regularization hyperparameter space\n",
    "    C = [0.1,1,10] #np.logspace(-1, 1, 50)\n",
    "    \n",
    "    # Create regularization penalty space\n",
    "    penalty = ['none', 'l2']\n",
    "    \n",
    "    # Create class weight mode space\n",
    "    class_weight = [None, 'balanced']\n",
    "    \n",
    "    # Create solver function space\n",
    "    solver = ['saga', 'lbfgs', 'newton-cg']\n",
    "    \n",
    "    # \n",
    "    fit_intercept = [True, False]\n",
    "\n",
    "    \n",
    "    # Define Search Param\n",
    "    param_dist = dict(C = C,\n",
    "#                       penalty = penalty,\n",
    "#                       class_weight = class_weight,\n",
    "#                       solver = solver,\n",
    "#                       fit_intercept = fit_intercept,\n",
    "                     )\n",
    "    rs = RandomizedSearchCV(estimator=LogReg_clf,\n",
    "                            param_distributions=param_dist,\n",
    "                            refit=True,\n",
    "                            scoring=score_param,\n",
    "                            n_iter=n_iter_search,\n",
    "                            cv=cv,\n",
    "                            n_jobs=-1,\n",
    "                            verbose =verbose,\n",
    "                            random_state=7,\n",
    "                            iid=True)\n",
    "    if verbose == 1:\n",
    "        start = time()    \n",
    "        rs.fit(X,y)\n",
    "        print(\"RandomizedSearchCV took %.2f seconds for %d candidate parameter settings.\" \n",
    "              % (time() - start, len(rs.cv_results_['params'])))\n",
    "\n",
    "    elif verbose == 0:\n",
    "        rs.fit(X,y)\n",
    "    \n",
    "    # Best parameter from RandomizedSearchCV\n",
    "    bs_C = rs.best_params_['C'] \n",
    "#     bs_penalty = rs.best_params_['penalty'] \n",
    "#     bs_class_weight = rs.best_params_['class_weight']\n",
    "#     bs_solver = rs.best_params_['solver'] \n",
    "#     bs_fit_intercept = rs.best_params_['fit_intercept']\n",
    "    d_C = np.log10(bs_C)\n",
    "    \n",
    "    param_grid = dict(C = np.append(bs_C,np.logspace(d_C-4,d_C+4,num=50)),\n",
    "#                       penalty = [bs_penalty],\n",
    "#                       class_weight = [bs_class_weight],\n",
    "#                       solver = [bs_solver],\n",
    "                      fit_intercept = fit_intercept #[bs_fit_intercept],\n",
    "                     )\n",
    "    gs = GridSearchCV(estimator=LogReg_clf, \n",
    "                      param_grid=param_grid,\n",
    "                      refit=True,\n",
    "                      scoring=score_param,\n",
    "                      cv=cv,\n",
    "                      n_jobs=-1,\n",
    "                      verbose =verbose,\n",
    "                      iid=True)\n",
    "    \n",
    "    if verbose == 1:\n",
    "        start = time()\n",
    "        gs.fit(X,y)\n",
    "        print(\"GridSearchCV took %.2f seconds for %d candidate parameter settings.\"\n",
    "              % (time() - start, len(gs.cv_results_['params'])))\n",
    "\n",
    "    elif verbose == 0:\n",
    "        gs.fit(X,y)\n",
    "    \n",
    "    return rs, gs"
   ]
  },
  {
   "cell_type": "code",
   "execution_count": 23,
   "metadata": {},
   "outputs": [],
   "source": [
    "def makeOverSamplesADASYN(X,y):\n",
    "    from imblearn.over_sampling import ADASYN\n",
    "    \"\"\"\n",
    "    Purpose\n",
    "    ----------\n",
    "    Increasing the observation of minority class \n",
    "\n",
    "    Parameters\n",
    "    ----------\n",
    "    X: Independent Variable in DataFrame\n",
    "    y: Dependent Variable in Pandas DataFrame format\n",
    "    Returns:\n",
    "    ----------\n",
    "    Returns Independent and Dependent variable with resampling minority class\n",
    "    \"\"\"\n",
    "    X_resampled, y_resampled = ADASYN(random_state=7).fit_sample(X, y)\n",
    "    return(X_resampled, y_resampled)"
   ]
  },
  {
   "cell_type": "code",
   "execution_count": 24,
   "metadata": {},
   "outputs": [
    {
     "data": {
      "text/plain": [
       "array([1.00000000e-03, 1.45634848e-03, 2.12095089e-03, 3.08884360e-03,\n",
       "       4.49843267e-03, 6.55128557e-03, 9.54095476e-03, 1.38949549e-02,\n",
       "       2.02358965e-02, 2.94705170e-02, 4.29193426e-02, 6.25055193e-02,\n",
       "       9.10298178e-02, 1.32571137e-01, 1.93069773e-01, 2.81176870e-01,\n",
       "       4.09491506e-01, 5.96362332e-01, 8.68511374e-01, 1.26485522e+00,\n",
       "       1.84206997e+00, 2.68269580e+00, 3.90693994e+00, 5.68986603e+00,\n",
       "       8.28642773e+00, 1.20679264e+01, 1.75751062e+01, 2.55954792e+01,\n",
       "       3.72759372e+01, 5.42867544e+01, 7.90604321e+01, 1.15139540e+02,\n",
       "       1.67683294e+02, 2.44205309e+02, 3.55648031e+02, 5.17947468e+02,\n",
       "       7.54312006e+02, 1.09854114e+03, 1.59985872e+03, 2.32995181e+03,\n",
       "       3.39322177e+03, 4.94171336e+03, 7.19685673e+03, 1.04811313e+04,\n",
       "       1.52641797e+04, 2.22299648e+04, 3.23745754e+04, 4.71486636e+04,\n",
       "       6.86648845e+04, 1.00000000e+05])"
      ]
     },
     "execution_count": 24,
     "metadata": {},
     "output_type": "execute_result"
    }
   ],
   "source": [
    "np.logspace(1-4,1+4,num=50)"
   ]
  },
  {
   "cell_type": "code",
   "execution_count": 25,
   "metadata": {},
   "outputs": [
    {
     "name": "stderr",
     "output_type": "stream",
     "text": [
      "Using TensorFlow backend.\n"
     ]
    }
   ],
   "source": [
    "# accuracy\n",
    "# balanced_accuracy\n",
    "# average_precision\n",
    "# roc_auc\n",
    "# f1\n",
    "# f1_micro\n",
    "score_param = 'accuracy' # Score for tune model\n",
    "n_iter_search = 3 # Max candidate parameter for RandomizedSearchCV\n",
    "cv = 5 # Number of k-fold cross validation\n",
    "LogReg_rs, LogReg_gs = LogReg_HPTune_w_OverSam(X_encoded,y_data.values.ravel(),  verbose = 0)"
   ]
  },
  {
   "cell_type": "code",
   "execution_count": 26,
   "metadata": {},
   "outputs": [
    {
     "name": "stdout",
     "output_type": "stream",
     "text": [
      "0.8543046357615894\n",
      "0.8543046357615894\n",
      "{'C': 10}\n",
      "{'C': 10.0, 'fit_intercept': False}\n",
      "=========================\n",
      "Training set performance\n",
      "=========================\n",
      "              precision    recall  f1-score   support\n",
      "\n",
      "         0.0       0.97      0.88      0.93        84\n",
      "         1.0       0.44      0.80      0.57        10\n",
      "\n",
      "    accuracy                           0.87        94\n",
      "   macro avg       0.71      0.84      0.75        94\n",
      "weighted avg       0.92      0.87      0.89        94\n",
      "\n",
      "=========================\n",
      "Test set performance\n",
      "=========================\n",
      "              precision    recall  f1-score   support\n",
      "\n",
      "         0.0       0.70      0.70      0.70        10\n",
      "         1.0       0.70      0.70      0.70        10\n",
      "\n",
      "    accuracy                           0.70        20\n",
      "   macro avg       0.70      0.70      0.70        20\n",
      "weighted avg       0.70      0.70      0.70        20\n",
      "\n",
      "LogisticRegression(C=10.0, class_weight=None, dual=False, fit_intercept=False,\n",
      "                   intercept_scaling=1, l1_ratio=None, max_iter=1000,\n",
      "                   multi_class='auto', n_jobs=None, penalty='l2',\n",
      "                   random_state=7, solver='lbfgs', tol=0.0001, verbose=0,\n",
      "                   warm_start=False)\n"
     ]
    }
   ],
   "source": [
    "print(LogReg_gs.best_score_)\n",
    "print(LogReg_rs.best_score_)\n",
    "print(LogReg_rs.best_params_)\n",
    "print(LogReg_gs.best_params_)\n",
    "\n",
    "print('='*25)\n",
    "print('Training set performance')\n",
    "print('='*25)\n",
    "print(classification_report(LogReg_gs.predict(X_encoded),y_data))\n",
    "\n",
    "print('='*25)\n",
    "print('Test set performance')\n",
    "print('='*25)\n",
    "print(classification_report(LogReg_gs.predict(X_encoded_test),y_data_test))\n",
    "\n",
    "print(LogReg_gs.best_estimator_)"
   ]
  },
  {
   "cell_type": "raw",
   "metadata": {},
   "source": [
    "# Result with oversampling and max_iter = 1000\n",
    "\n",
    "0.8741721854304636\n",
    "0.8741721854304636\n",
    "{'C': 0.4534878508128582}\n",
    "{'C': 0.4534878508128582}\n",
    "{'fit_intercept': True, 'C': 0.8286427728546845}\n",
    "{'C': 0.8286427728546845, 'fit_intercept': True}\n",
    "=========================\n",
    "Training set performance\n",
    "=========================\n",
    "              precision    recall  f1-score   support\n",
    "\n",
    "         0.0       0.96      0.88      0.92        83\n",
    "         1.0       0.44      0.73      0.55        11\n",
    "\n",
    "    accuracy                           0.86        94\n",
    "   macro avg       0.70      0.80      0.73        94\n",
    "weighted avg       0.90      0.86      0.88        94\n",
    "\n",
    "=========================\n",
    "Test set performance\n",
    "=========================\n",
    "              precision    recall  f1-score   support\n",
    "\n",
    "         0.0       0.80      0.73      0.76        11\n",
    "         1.0       0.70      0.78      0.74         9\n",
    "\n",
    "    accuracy                           0.75        20\n",
    "   macro avg       0.75      0.75      0.75        20\n",
    "weighted avg       0.76      0.75      0.75        20\n",
    "\n",
    "LogisticRegression(C=0.4534878508128582, class_weight=None, dual=False,\n",
    "                   fit_intercept=False, intercept_scaling=1, l1_ratio=None,\n",
    "                   max_iter=1000, multi_class='auto', n_jobs=None, penalty='l2',\n",
    "                   random_state=7, solver='lbfgs', tol=0.0001, verbose=0,\n",
    "                   warm_start=False)"
   ]
  },
  {
   "cell_type": "raw",
   "metadata": {},
   "source": [
    "# Result without oversampling\n",
    "\n",
    "0.851063829787234\n",
    "0.851063829787234\n",
    "{'penalty': 'l2', 'fit_intercept': False, 'class_weight': None, 'C': 0.03430469286314919}\n",
    "{'C': 0.03430469286314919, 'class_weight': None, 'fit_intercept': False, 'penalty': 'l2'}\n",
    "              precision    recall  f1-score   support\n",
    "\n",
    "         0.0       0.99      0.82      0.90        91\n",
    "         1.0       0.11      0.67      0.19         3\n",
    "\n",
    "    accuracy                           0.82        94\n",
    "   macro avg       0.55      0.75      0.54        94\n",
    "weighted avg       0.96      0.82      0.88        94\n",
    "\n",
    "              precision    recall  f1-score   support\n",
    "\n",
    "         0.0       1.00      0.56      0.71        18\n",
    "         1.0       0.20      1.00      0.33         2\n",
    "\n",
    "    accuracy                           0.60        20\n",
    "   macro avg       0.60      0.78      0.52        20\n",
    "weighted avg       0.92      0.60      0.68        20"
   ]
  },
  {
   "cell_type": "code",
   "execution_count": 27,
   "metadata": {},
   "outputs": [
    {
     "name": "stdout",
     "output_type": "stream",
     "text": [
      "(20, 2)\n",
      "(20, 1)\n",
      "(20, 1)\n",
      "(20,)\n"
     ]
    }
   ],
   "source": [
    "print(LogReg_gs.predict_proba(X_encoded_test).shape)\n",
    "print(LogReg_gs.predict(X_encoded_test).reshape(-1,1).shape)\n",
    "print(np.array(y_data_test).reshape(-1,1).shape)\n",
    "\n",
    "print(LogReg_gs.predict_proba(X_encoded_test)[:,1].shape)"
   ]
  },
  {
   "cell_type": "code",
   "execution_count": 28,
   "metadata": {},
   "outputs": [
    {
     "data": {
      "text/plain": [
       "array([[0.86400409, 0.13599591, 0.        , 1.        ],\n",
       "       [0.20605308, 0.79394692, 1.        , 1.        ],\n",
       "       [0.36960534, 0.63039466, 1.        , 1.        ],\n",
       "       [0.21891932, 0.78108068, 1.        , 1.        ],\n",
       "       [0.49127642, 0.50872358, 1.        , 1.        ],\n",
       "       [0.06015876, 0.93984124, 1.        , 1.        ],\n",
       "       [0.99870094, 0.00129906, 0.        , 1.        ],\n",
       "       [0.18210271, 0.81789729, 1.        , 1.        ],\n",
       "       [0.94815408, 0.05184592, 0.        , 1.        ],\n",
       "       [0.05506585, 0.94493415, 1.        , 1.        ],\n",
       "       [0.97572779, 0.02427221, 0.        , 0.        ],\n",
       "       [0.88313285, 0.11686715, 0.        , 0.        ],\n",
       "       [0.76097189, 0.23902811, 0.        , 0.        ],\n",
       "       [0.17337757, 0.82662243, 1.        , 0.        ],\n",
       "       [0.07515474, 0.92484526, 1.        , 0.        ],\n",
       "       [0.95341935, 0.04658065, 0.        , 0.        ],\n",
       "       [0.08046459, 0.91953541, 1.        , 0.        ],\n",
       "       [0.83330357, 0.16669643, 0.        , 0.        ],\n",
       "       [0.98070613, 0.01929387, 0.        , 0.        ],\n",
       "       [0.98745274, 0.01254726, 0.        , 0.        ]])"
      ]
     },
     "execution_count": 28,
     "metadata": {},
     "output_type": "execute_result"
    }
   ],
   "source": [
    "compare_predict_prob = np.append(LogReg_gs.predict_proba(X_encoded_test),(LogReg_gs.predict(X_encoded_test).reshape(-1,1)), axis = 1)\n",
    "compare_predict_prob = np.append(compare_predict_prob,np.array(y_data_test).reshape(-1,1),axis=1)\n",
    "compare_predict_prob"
   ]
  },
  {
   "cell_type": "code",
   "execution_count": 29,
   "metadata": {},
   "outputs": [
    {
     "data": {
      "text/plain": [
       "684"
      ]
     },
     "execution_count": 29,
     "metadata": {},
     "output_type": "execute_result"
    }
   ],
   "source": [
    "total_NaN = len(df_NaN)\n",
    "total_NaN"
   ]
  },
  {
   "cell_type": "code",
   "execution_count": 30,
   "metadata": {},
   "outputs": [],
   "source": [
    "# Sampling and drop\n",
    "df_NaN_temp = df_NaN.copy()\n",
    "n_sam = 100\n",
    "df_NaN_subset = df_NaN_temp.sample(n_sam, random_state=7)\n",
    "df_NaN_temp = df_NaN_temp.drop(df_NaN_subset.index)"
   ]
  },
  {
   "cell_type": "code",
   "execution_count": 31,
   "metadata": {},
   "outputs": [
    {
     "name": "stdout",
     "output_type": "stream",
     "text": [
      "(100, 46)\n"
     ]
    }
   ],
   "source": [
    "print(df_NaN_subset.shape)"
   ]
  },
  {
   "cell_type": "code",
   "execution_count": 32,
   "metadata": {},
   "outputs": [],
   "source": [
    "X_encoded_NaN = df_NaN_subset.drop(['Drug_Rechallenge_Result','Patient_ID'], axis=1)\n",
    "y_data_NaN = df_NaN_subset[['Drug_Rechallenge_Result']]"
   ]
  },
  {
   "cell_type": "code",
   "execution_count": 33,
   "metadata": {},
   "outputs": [
    {
     "data": {
      "text/plain": [
       "Int64Index([  1,  16,  21,  24,  28,  35,  44,  48,  53,  55,  57,  59,  92,\n",
       "             95, 105, 108, 112, 117, 118, 119, 130, 143, 169, 202, 221, 225,\n",
       "            232, 233, 235, 236, 243, 258, 259, 260, 266, 276, 277, 285, 288,\n",
       "            292, 299, 302, 308, 312, 317, 318, 320, 321, 327, 336, 351, 352,\n",
       "            355, 367, 369, 384, 387, 388, 395, 399, 405, 406, 407, 440, 444,\n",
       "            462, 464, 465, 478, 480, 481, 482, 486, 489, 490, 491, 492, 494,\n",
       "            495, 497, 500, 506, 518, 546, 552, 564, 627, 630, 659, 661, 682,\n",
       "            778, 782, 788],\n",
       "           dtype='int64')"
      ]
     },
     "execution_count": 33,
     "metadata": {},
     "output_type": "execute_result"
    }
   ],
   "source": [
    "y_data.index"
   ]
  },
  {
   "cell_type": "code",
   "execution_count": 34,
   "metadata": {},
   "outputs": [
    {
     "data": {
      "text/plain": [
       "array([[0.183, 0.000],\n",
       "       [0.003, 0.000],\n",
       "       [0.007, 0.000],\n",
       "       [0.001, 0.000],\n",
       "       [0.894, 1.000]])"
      ]
     },
     "execution_count": 34,
     "metadata": {},
     "output_type": "execute_result"
    }
   ],
   "source": [
    "np.set_printoptions(formatter={'float': lambda x: \"{0:0.3f}\".format(x)})\n",
    "\n",
    "compare_predict_prob = np.append(LogReg_gs.predict_proba(X_encoded_NaN)[:,1].reshape(-1,1),(LogReg_gs.predict(X_encoded_NaN).reshape(-1,1)), axis = 1)\n",
    "compare_predict_prob[:5]"
   ]
  },
  {
   "cell_type": "code",
   "execution_count": 35,
   "metadata": {},
   "outputs": [
    {
     "data": {
      "text/plain": [
       "Counter({0.0: 75, 1.0: 25})"
      ]
     },
     "execution_count": 35,
     "metadata": {},
     "output_type": "execute_result"
    }
   ],
   "source": [
    "Counter(LogReg_gs.predict(X_encoded_NaN))"
   ]
  },
  {
   "cell_type": "code",
   "execution_count": null,
   "metadata": {},
   "outputs": [],
   "source": []
  },
  {
   "cell_type": "code",
   "execution_count": 36,
   "metadata": {},
   "outputs": [
    {
     "data": {
      "text/plain": [
       "Int64Index([375, 251, 213,  14, 334, 532, 691,  74, 588, 295, 505, 223, 274,\n",
       "            451, 361, 244, 721, 702, 543, 538, 458, 228,  71, 625, 456,  10,\n",
       "            403, 460, 436, 760, 531, 220, 554, 300, 692, 621, 734, 642, 378,\n",
       "            657, 138, 356, 180, 530, 394, 779, 174, 173, 671, 665, 139, 342,\n",
       "            158, 570, 526, 653, 337, 284, 555, 568, 310, 201, 227, 301, 345,\n",
       "            644, 265, 727,  84, 525, 729, 736, 315, 453, 707, 557, 268, 624,\n",
       "            514, 536, 560, 780, 127, 452, 753, 404, 695, 600, 684, 186, 672,\n",
       "             67, 192, 726, 170, 797, 305,  26, 390, 678],\n",
       "           dtype='int64')"
      ]
     },
     "execution_count": 36,
     "metadata": {},
     "output_type": "execute_result"
    }
   ],
   "source": [
    "X_encoded_NaN.index"
   ]
  },
  {
   "cell_type": "code",
   "execution_count": 37,
   "metadata": {},
   "outputs": [],
   "source": [
    "high_confidence_idx = []\n",
    "predict_result = []\n",
    "threshold_pos = 0.8\n",
    "for idx in X_encoded_NaN.index:\n",
    "    Pos_confidence = LogReg_gs.predict_proba(X_encoded_NaN.loc[[idx]])[:,1]\n",
    "    if Pos_confidence > threshold_pos:\n",
    "        high_confidence_idx.append(idx)\n",
    "        predict_class = LogReg_gs.predict(X_encoded_NaN.loc[[idx]])\n",
    "        predict_result.append(predict_class)\n",
    "    elif Pos_confidence < (1-threshold_pos):\n",
    "        high_confidence_idx.append(idx)\n",
    "        predict_class = LogReg_gs.predict(X_encoded_NaN.loc[[idx]])\n",
    "        predict_result.append(predict_class)"
   ]
  },
  {
   "cell_type": "code",
   "execution_count": 38,
   "metadata": {},
   "outputs": [
    {
     "name": "stdout",
     "output_type": "stream",
     "text": [
      "375 0.0\n",
      "251 0.0\n",
      "213 0.0\n",
      "14 0.0\n",
      "334 1.0\n",
      "532 0.0\n"
     ]
    }
   ],
   "source": [
    "count = 0\n",
    "for idx, class_pred in zip(high_confidence_idx,predict_result):\n",
    "    print(idx, class_pred[0])\n",
    "    count += 1\n",
    "    if count >5: break"
   ]
  },
  {
   "cell_type": "code",
   "execution_count": 39,
   "metadata": {},
   "outputs": [
    {
     "data": {
      "text/plain": [
       "[array([0.000]),\n",
       " array([0.000]),\n",
       " array([0.000]),\n",
       " array([0.000]),\n",
       " array([1.000])]"
      ]
     },
     "execution_count": 39,
     "metadata": {},
     "output_type": "execute_result"
    }
   ],
   "source": [
    "predict_result[:5]"
   ]
  },
  {
   "cell_type": "code",
   "execution_count": 40,
   "metadata": {},
   "outputs": [
    {
     "name": "stdout",
     "output_type": "stream",
     "text": [
      "(70, 44)\n"
     ]
    },
    {
     "data": {
      "text/html": [
       "<div>\n",
       "<style scoped>\n",
       "    .dataframe tbody tr th:only-of-type {\n",
       "        vertical-align: middle;\n",
       "    }\n",
       "\n",
       "    .dataframe tbody tr th {\n",
       "        vertical-align: top;\n",
       "    }\n",
       "\n",
       "    .dataframe thead th {\n",
       "        text-align: right;\n",
       "    }\n",
       "</style>\n",
       "<table border=\"1\" class=\"dataframe\">\n",
       "  <thead>\n",
       "    <tr style=\"text-align: right;\">\n",
       "      <th></th>\n",
       "      <th>Age_Year</th>\n",
       "      <th>ELISpot_Control</th>\n",
       "      <th>ELISpot_Result</th>\n",
       "      <th>Gender_0</th>\n",
       "      <th>Gender_1</th>\n",
       "      <th>Naranjo_Category_0</th>\n",
       "      <th>Naranjo_Category_1</th>\n",
       "      <th>Naranjo_Category_2</th>\n",
       "      <th>Naranjo_Category_3</th>\n",
       "      <th>Steroid_Usage_0</th>\n",
       "      <th>Steroid_Usage_1</th>\n",
       "      <th>Underlying_Condition_A_0</th>\n",
       "      <th>Underlying_Condition_A_1</th>\n",
       "      <th>Underlying_Condition_B_0</th>\n",
       "      <th>Underlying_Condition_B_1</th>\n",
       "      <th>Underlying_Condition_C_0</th>\n",
       "      <th>Underlying_Condition_C_1</th>\n",
       "      <th>Underlying_Condition_D_0</th>\n",
       "      <th>Underlying_Condition_D_1</th>\n",
       "      <th>Underlying_Condition_E_0</th>\n",
       "      <th>Underlying_Condition_E_1</th>\n",
       "      <th>Suspicion_Score_1</th>\n",
       "      <th>Suspicion_Score_2</th>\n",
       "      <th>Suspicion_Score_3</th>\n",
       "      <th>Allergic_Reaction_Group_1</th>\n",
       "      <th>Allergic_Reaction_Group_2</th>\n",
       "      <th>Allergic_Reaction_Group_3</th>\n",
       "      <th>Allergic_Reaction_Group_4</th>\n",
       "      <th>Allergic_Reaction_Group_5</th>\n",
       "      <th>Allergic_Reaction_Group_6</th>\n",
       "      <th>Allergic_Reaction_Group_7</th>\n",
       "      <th>Allergic_Reaction_Group_8</th>\n",
       "      <th>Drug_Group_1</th>\n",
       "      <th>Drug_Group_2</th>\n",
       "      <th>Drug_Group_3</th>\n",
       "      <th>Drug_Group_4</th>\n",
       "      <th>Drug_Group_5</th>\n",
       "      <th>Drug_Group_6</th>\n",
       "      <th>Drug_Group_7</th>\n",
       "      <th>Drug_Group_8</th>\n",
       "      <th>Ex_Time_group_0</th>\n",
       "      <th>Ex_Time_group_1</th>\n",
       "      <th>Ex_Time_group_2</th>\n",
       "      <th>Ex_Time_group_3</th>\n",
       "    </tr>\n",
       "  </thead>\n",
       "  <tbody>\n",
       "    <tr>\n",
       "      <th>375</th>\n",
       "      <td>73</td>\n",
       "      <td>1244</td>\n",
       "      <td>0.000</td>\n",
       "      <td>0</td>\n",
       "      <td>1</td>\n",
       "      <td>0</td>\n",
       "      <td>0</td>\n",
       "      <td>1</td>\n",
       "      <td>0</td>\n",
       "      <td>1</td>\n",
       "      <td>0</td>\n",
       "      <td>1</td>\n",
       "      <td>0</td>\n",
       "      <td>1</td>\n",
       "      <td>0</td>\n",
       "      <td>1</td>\n",
       "      <td>0</td>\n",
       "      <td>1</td>\n",
       "      <td>0</td>\n",
       "      <td>1</td>\n",
       "      <td>0</td>\n",
       "      <td>0</td>\n",
       "      <td>1</td>\n",
       "      <td>0</td>\n",
       "      <td>1</td>\n",
       "      <td>0</td>\n",
       "      <td>0</td>\n",
       "      <td>0</td>\n",
       "      <td>0</td>\n",
       "      <td>0</td>\n",
       "      <td>0</td>\n",
       "      <td>0</td>\n",
       "      <td>0</td>\n",
       "      <td>0</td>\n",
       "      <td>0</td>\n",
       "      <td>0</td>\n",
       "      <td>0</td>\n",
       "      <td>0</td>\n",
       "      <td>1</td>\n",
       "      <td>0</td>\n",
       "      <td>1</td>\n",
       "      <td>0</td>\n",
       "      <td>0</td>\n",
       "      <td>0</td>\n",
       "    </tr>\n",
       "    <tr>\n",
       "      <th>251</th>\n",
       "      <td>88</td>\n",
       "      <td>1600</td>\n",
       "      <td>0.000</td>\n",
       "      <td>1</td>\n",
       "      <td>0</td>\n",
       "      <td>0</td>\n",
       "      <td>1</td>\n",
       "      <td>0</td>\n",
       "      <td>0</td>\n",
       "      <td>1</td>\n",
       "      <td>0</td>\n",
       "      <td>1</td>\n",
       "      <td>0</td>\n",
       "      <td>0</td>\n",
       "      <td>1</td>\n",
       "      <td>1</td>\n",
       "      <td>0</td>\n",
       "      <td>1</td>\n",
       "      <td>0</td>\n",
       "      <td>1</td>\n",
       "      <td>0</td>\n",
       "      <td>0</td>\n",
       "      <td>0</td>\n",
       "      <td>1</td>\n",
       "      <td>0</td>\n",
       "      <td>0</td>\n",
       "      <td>1</td>\n",
       "      <td>0</td>\n",
       "      <td>0</td>\n",
       "      <td>0</td>\n",
       "      <td>0</td>\n",
       "      <td>0</td>\n",
       "      <td>0</td>\n",
       "      <td>0</td>\n",
       "      <td>1</td>\n",
       "      <td>0</td>\n",
       "      <td>0</td>\n",
       "      <td>0</td>\n",
       "      <td>0</td>\n",
       "      <td>0</td>\n",
       "      <td>1</td>\n",
       "      <td>0</td>\n",
       "      <td>0</td>\n",
       "      <td>0</td>\n",
       "    </tr>\n",
       "    <tr>\n",
       "      <th>213</th>\n",
       "      <td>60</td>\n",
       "      <td>2560</td>\n",
       "      <td>1.000</td>\n",
       "      <td>0</td>\n",
       "      <td>1</td>\n",
       "      <td>0</td>\n",
       "      <td>1</td>\n",
       "      <td>0</td>\n",
       "      <td>0</td>\n",
       "      <td>1</td>\n",
       "      <td>0</td>\n",
       "      <td>1</td>\n",
       "      <td>0</td>\n",
       "      <td>1</td>\n",
       "      <td>0</td>\n",
       "      <td>1</td>\n",
       "      <td>0</td>\n",
       "      <td>1</td>\n",
       "      <td>0</td>\n",
       "      <td>1</td>\n",
       "      <td>0</td>\n",
       "      <td>0</td>\n",
       "      <td>0</td>\n",
       "      <td>1</td>\n",
       "      <td>0</td>\n",
       "      <td>0</td>\n",
       "      <td>0</td>\n",
       "      <td>0</td>\n",
       "      <td>0</td>\n",
       "      <td>0</td>\n",
       "      <td>0</td>\n",
       "      <td>1</td>\n",
       "      <td>0</td>\n",
       "      <td>0</td>\n",
       "      <td>0</td>\n",
       "      <td>0</td>\n",
       "      <td>0</td>\n",
       "      <td>0</td>\n",
       "      <td>0</td>\n",
       "      <td>1</td>\n",
       "      <td>1</td>\n",
       "      <td>0</td>\n",
       "      <td>0</td>\n",
       "      <td>0</td>\n",
       "    </tr>\n",
       "    <tr>\n",
       "      <th>14</th>\n",
       "      <td>48</td>\n",
       "      <td>820</td>\n",
       "      <td>0.000</td>\n",
       "      <td>1</td>\n",
       "      <td>0</td>\n",
       "      <td>0</td>\n",
       "      <td>1</td>\n",
       "      <td>0</td>\n",
       "      <td>0</td>\n",
       "      <td>1</td>\n",
       "      <td>0</td>\n",
       "      <td>1</td>\n",
       "      <td>0</td>\n",
       "      <td>1</td>\n",
       "      <td>0</td>\n",
       "      <td>0</td>\n",
       "      <td>1</td>\n",
       "      <td>1</td>\n",
       "      <td>0</td>\n",
       "      <td>1</td>\n",
       "      <td>0</td>\n",
       "      <td>1</td>\n",
       "      <td>0</td>\n",
       "      <td>0</td>\n",
       "      <td>1</td>\n",
       "      <td>0</td>\n",
       "      <td>0</td>\n",
       "      <td>0</td>\n",
       "      <td>0</td>\n",
       "      <td>0</td>\n",
       "      <td>0</td>\n",
       "      <td>0</td>\n",
       "      <td>0</td>\n",
       "      <td>0</td>\n",
       "      <td>0</td>\n",
       "      <td>0</td>\n",
       "      <td>0</td>\n",
       "      <td>1</td>\n",
       "      <td>0</td>\n",
       "      <td>0</td>\n",
       "      <td>1</td>\n",
       "      <td>0</td>\n",
       "      <td>0</td>\n",
       "      <td>0</td>\n",
       "    </tr>\n",
       "    <tr>\n",
       "      <th>334</th>\n",
       "      <td>30</td>\n",
       "      <td>1432</td>\n",
       "      <td>0.000</td>\n",
       "      <td>1</td>\n",
       "      <td>0</td>\n",
       "      <td>0</td>\n",
       "      <td>1</td>\n",
       "      <td>0</td>\n",
       "      <td>0</td>\n",
       "      <td>1</td>\n",
       "      <td>0</td>\n",
       "      <td>1</td>\n",
       "      <td>0</td>\n",
       "      <td>1</td>\n",
       "      <td>0</td>\n",
       "      <td>0</td>\n",
       "      <td>1</td>\n",
       "      <td>1</td>\n",
       "      <td>0</td>\n",
       "      <td>0</td>\n",
       "      <td>1</td>\n",
       "      <td>0</td>\n",
       "      <td>1</td>\n",
       "      <td>0</td>\n",
       "      <td>0</td>\n",
       "      <td>1</td>\n",
       "      <td>0</td>\n",
       "      <td>0</td>\n",
       "      <td>0</td>\n",
       "      <td>0</td>\n",
       "      <td>0</td>\n",
       "      <td>0</td>\n",
       "      <td>0</td>\n",
       "      <td>1</td>\n",
       "      <td>0</td>\n",
       "      <td>0</td>\n",
       "      <td>0</td>\n",
       "      <td>0</td>\n",
       "      <td>0</td>\n",
       "      <td>0</td>\n",
       "      <td>1</td>\n",
       "      <td>0</td>\n",
       "      <td>0</td>\n",
       "      <td>0</td>\n",
       "    </tr>\n",
       "  </tbody>\n",
       "</table>\n",
       "</div>"
      ],
      "text/plain": [
       "     Age_Year  ELISpot_Control  ELISpot_Result  Gender_0  Gender_1  Naranjo_Category_0  Naranjo_Category_1  Naranjo_Category_2  Naranjo_Category_3  Steroid_Usage_0  Steroid_Usage_1  Underlying_Condition_A_0  Underlying_Condition_A_1  Underlying_Condition_B_0  Underlying_Condition_B_1  Underlying_Condition_C_0  Underlying_Condition_C_1  Underlying_Condition_D_0  Underlying_Condition_D_1  Underlying_Condition_E_0  Underlying_Condition_E_1  Suspicion_Score_1  Suspicion_Score_2  Suspicion_Score_3  Allergic_Reaction_Group_1  Allergic_Reaction_Group_2  Allergic_Reaction_Group_3  Allergic_Reaction_Group_4  Allergic_Reaction_Group_5  Allergic_Reaction_Group_6  Allergic_Reaction_Group_7  Allergic_Reaction_Group_8  Drug_Group_1  Drug_Group_2  Drug_Group_3  Drug_Group_4  Drug_Group_5  Drug_Group_6  Drug_Group_7  Drug_Group_8  Ex_Time_group_0  Ex_Time_group_1  Ex_Time_group_2  Ex_Time_group_3\n",
       "375  73        1244            0.000            0         1         0                   0                   1                   0                   1                0                1                         0                         1                         0                         1                         0                         1                         0                         1                         0                         0                  1                  0                  1                          0                          0                          0                          0                          0                          0                          0                          0             0             0             0             0             0             1             0             1                0                0                0              \n",
       "251  88        1600            0.000            1         0         0                   1                   0                   0                   1                0                1                         0                         0                         1                         1                         0                         1                         0                         1                         0                         0                  0                  1                  0                          0                          1                          0                          0                          0                          0                          0                          0             0             1             0             0             0             0             0             1                0                0                0              \n",
       "213  60        2560            1.000            0         1         0                   1                   0                   0                   1                0                1                         0                         1                         0                         1                         0                         1                         0                         1                         0                         0                  0                  1                  0                          0                          0                          0                          0                          0                          0                          1                          0             0             0             0             0             0             0             1             1                0                0                0              \n",
       "14   48        820             0.000            1         0         0                   1                   0                   0                   1                0                1                         0                         1                         0                         0                         1                         1                         0                         1                         0                         1                  0                  0                  1                          0                          0                          0                          0                          0                          0                          0                          0             0             0             0             0             1             0             0             1                0                0                0              \n",
       "334  30        1432            0.000            1         0         0                   1                   0                   0                   1                0                1                         0                         1                         0                         0                         1                         1                         0                         0                         1                         0                  1                  0                  0                          1                          0                          0                          0                          0                          0                          0                          0             1             0             0             0             0             0             0             1                0                0                0              "
      ]
     },
     "execution_count": 40,
     "metadata": {},
     "output_type": "execute_result"
    }
   ],
   "source": [
    "df_feature_NaN = X_encoded_NaN.loc[high_confidence_idx]\n",
    "print(df_feature_NaN.shape)\n",
    "df_feature_NaN.head()"
   ]
  },
  {
   "cell_type": "code",
   "execution_count": 41,
   "metadata": {},
   "outputs": [
    {
     "name": "stdout",
     "output_type": "stream",
     "text": [
      "(70, 1)\n"
     ]
    },
    {
     "data": {
      "text/html": [
       "<div>\n",
       "<style scoped>\n",
       "    .dataframe tbody tr th:only-of-type {\n",
       "        vertical-align: middle;\n",
       "    }\n",
       "\n",
       "    .dataframe tbody tr th {\n",
       "        vertical-align: top;\n",
       "    }\n",
       "\n",
       "    .dataframe thead th {\n",
       "        text-align: right;\n",
       "    }\n",
       "</style>\n",
       "<table border=\"1\" class=\"dataframe\">\n",
       "  <thead>\n",
       "    <tr style=\"text-align: right;\">\n",
       "      <th></th>\n",
       "      <th>Drug_Rechallenge_Result</th>\n",
       "    </tr>\n",
       "  </thead>\n",
       "  <tbody>\n",
       "    <tr>\n",
       "      <th>375</th>\n",
       "      <td>0.000</td>\n",
       "    </tr>\n",
       "    <tr>\n",
       "      <th>251</th>\n",
       "      <td>0.000</td>\n",
       "    </tr>\n",
       "    <tr>\n",
       "      <th>213</th>\n",
       "      <td>0.000</td>\n",
       "    </tr>\n",
       "    <tr>\n",
       "      <th>14</th>\n",
       "      <td>0.000</td>\n",
       "    </tr>\n",
       "    <tr>\n",
       "      <th>334</th>\n",
       "      <td>1.000</td>\n",
       "    </tr>\n",
       "  </tbody>\n",
       "</table>\n",
       "</div>"
      ],
      "text/plain": [
       "     Drug_Rechallenge_Result\n",
       "375 0.000                   \n",
       "251 0.000                   \n",
       "213 0.000                   \n",
       "14  0.000                   \n",
       "334 1.000                   "
      ]
     },
     "execution_count": 41,
     "metadata": {},
     "output_type": "execute_result"
    }
   ],
   "source": [
    "# Create dataframe to store high confidence result\n",
    "df_predict_NaN = pd.DataFrame(predict_result, columns=['Drug_Rechallenge_Result'], index=high_confidence_idx)\n",
    "print(df_predict_NaN.shape)\n",
    "df_predict_NaN.head()"
   ]
  },
  {
   "cell_type": "raw",
   "metadata": {},
   "source": [
    "# Concat X_encoded and df_predict to preserve index number\n",
    "df_high_con_NaN = pd.concat([df_feature_NaN, df_predict_NaN],axis=1)\n",
    "df_high_con_NaN.head()"
   ]
  },
  {
   "cell_type": "code",
   "execution_count": 42,
   "metadata": {},
   "outputs": [
    {
     "data": {
      "text/html": [
       "<div>\n",
       "<style scoped>\n",
       "    .dataframe tbody tr th:only-of-type {\n",
       "        vertical-align: middle;\n",
       "    }\n",
       "\n",
       "    .dataframe tbody tr th {\n",
       "        vertical-align: top;\n",
       "    }\n",
       "\n",
       "    .dataframe thead th {\n",
       "        text-align: right;\n",
       "    }\n",
       "</style>\n",
       "<table border=\"1\" class=\"dataframe\">\n",
       "  <thead>\n",
       "    <tr style=\"text-align: right;\">\n",
       "      <th></th>\n",
       "      <th>Drug_Rechallenge_Result</th>\n",
       "    </tr>\n",
       "  </thead>\n",
       "  <tbody>\n",
       "    <tr>\n",
       "      <th>1</th>\n",
       "      <td>1.000</td>\n",
       "    </tr>\n",
       "    <tr>\n",
       "      <th>16</th>\n",
       "      <td>0.000</td>\n",
       "    </tr>\n",
       "    <tr>\n",
       "      <th>21</th>\n",
       "      <td>0.000</td>\n",
       "    </tr>\n",
       "    <tr>\n",
       "      <th>24</th>\n",
       "      <td>0.000</td>\n",
       "    </tr>\n",
       "    <tr>\n",
       "      <th>28</th>\n",
       "      <td>0.000</td>\n",
       "    </tr>\n",
       "  </tbody>\n",
       "</table>\n",
       "</div>"
      ],
      "text/plain": [
       "    Drug_Rechallenge_Result\n",
       "1  1.000                   \n",
       "16 0.000                   \n",
       "21 0.000                   \n",
       "24 0.000                   \n",
       "28 0.000                   "
      ]
     },
     "execution_count": 42,
     "metadata": {},
     "output_type": "execute_result"
    }
   ],
   "source": [
    "y_data.head()"
   ]
  },
  {
   "cell_type": "code",
   "execution_count": 43,
   "metadata": {},
   "outputs": [
    {
     "name": "stdout",
     "output_type": "stream",
     "text": [
      "(94, 44)\n",
      "(164, 44)\n",
      "(94, 1)\n",
      "(164, 1)\n"
     ]
    }
   ],
   "source": [
    "# Concat new predicted data to X_encoded and y_data\n",
    "print(X_encoded.shape)\n",
    "X_encoded_new = pd.concat([X_encoded,df_feature_NaN])\n",
    "print(X_encoded_new.shape)\n",
    "print(y_data.shape)\n",
    "y_data_new = pd.concat([y_data,df_predict_NaN])\n",
    "print(y_data_new.shape)"
   ]
  },
  {
   "cell_type": "code",
   "execution_count": 44,
   "metadata": {},
   "outputs": [
    {
     "data": {
      "text/plain": [
       "Drug_Rechallenge_Result    0\n",
       "dtype: int64"
      ]
     },
     "execution_count": 44,
     "metadata": {},
     "output_type": "execute_result"
    }
   ],
   "source": [
    "df_predict_NaN.isnull().sum()"
   ]
  },
  {
   "cell_type": "code",
   "execution_count": 45,
   "metadata": {},
   "outputs": [
    {
     "data": {
      "text/plain": [
       "Drug_Rechallenge_Result    0\n",
       "dtype: int64"
      ]
     },
     "execution_count": 45,
     "metadata": {},
     "output_type": "execute_result"
    }
   ],
   "source": [
    "y_data_new.isnull().sum()\n",
    "# y_data_new"
   ]
  },
  {
   "cell_type": "code",
   "execution_count": 46,
   "metadata": {},
   "outputs": [
    {
     "name": "stderr",
     "output_type": "stream",
     "text": [
      "/Users/PLoTAir/opt/anaconda3/envs/DS_project/lib/python3.7/site-packages/sklearn/linear_model/_logistic.py:940: ConvergenceWarning: lbfgs failed to converge (status=1):\n",
      "STOP: TOTAL NO. of ITERATIONS REACHED LIMIT.\n",
      "\n",
      "Increase the number of iterations (max_iter) or scale the data as shown in:\n",
      "    https://scikit-learn.org/stable/modules/preprocessing.html\n",
      "Please also refer to the documentation for alternative solver options:\n",
      "    https://scikit-learn.org/stable/modules/linear_model.html#logistic-regression\n",
      "  extra_warning_msg=_LOGISTIC_SOLVER_CONVERGENCE_MSG)\n"
     ]
    }
   ],
   "source": [
    "score_param = 'accuracy' # Score for tune model\n",
    "n_iter_search = 3 # Max candidate parameter for RandomizedSearchCV\n",
    "cv = 5 # Number of k-fold cross validation\n",
    "LogReg_rs, LogReg_gs = LogReg_HPTune_w_OverSam(X_encoded_new,y_data_new.values.ravel())"
   ]
  },
  {
   "cell_type": "code",
   "execution_count": 47,
   "metadata": {},
   "outputs": [
    {
     "name": "stdout",
     "output_type": "stream",
     "text": [
      "0.9028776978417267\n",
      "0.8992805755395683\n",
      "{'C': 1}\n",
      "{'C': 1.2067926406393288, 'fit_intercept': True}\n",
      "=========================\n",
      "Training set performance\n",
      "=========================\n",
      "              precision    recall  f1-score   support\n",
      "\n",
      "         0.0       0.99      0.93      0.96       144\n",
      "         1.0       0.66      0.95      0.78        20\n",
      "\n",
      "    accuracy                           0.93       164\n",
      "   macro avg       0.82      0.94      0.87       164\n",
      "weighted avg       0.95      0.93      0.94       164\n",
      "\n",
      "=========================\n",
      "Test set performance\n",
      "=========================\n",
      "              precision    recall  f1-score   support\n",
      "\n",
      "         0.0       0.70      0.70      0.70        10\n",
      "         1.0       0.70      0.70      0.70        10\n",
      "\n",
      "    accuracy                           0.70        20\n",
      "   macro avg       0.70      0.70      0.70        20\n",
      "weighted avg       0.70      0.70      0.70        20\n",
      "\n"
     ]
    }
   ],
   "source": [
    "print(LogReg_gs.best_score_)\n",
    "print(LogReg_rs.best_score_)\n",
    "print(LogReg_rs.best_params_)\n",
    "print(LogReg_gs.best_params_)\n",
    "\n",
    "print('='*25)\n",
    "print('Training set performance')\n",
    "print('='*25)\n",
    "print(classification_report(LogReg_gs.predict(X_encoded_new),y_data_new))\n",
    "\n",
    "print('='*25)\n",
    "print('Test set performance')\n",
    "print('='*25)\n",
    "print(classification_report(LogReg_gs.predict(X_encoded_test),y_data_test))"
   ]
  },
  {
   "cell_type": "code",
   "execution_count": 48,
   "metadata": {},
   "outputs": [
    {
     "data": {
      "text/plain": [
       "Int64Index([588, 458, 625, 460, 621, 734, 378, 657, 779, 139, 570, 526, 653,\n",
       "            337, 284, 201, 345, 736, 453, 707, 268, 624, 560, 452, 600, 672,\n",
       "             67, 192, 797,  26],\n",
       "           dtype='int64')"
      ]
     },
     "execution_count": 48,
     "metadata": {},
     "output_type": "execute_result"
    }
   ],
   "source": [
    "# Append row which has low confident to df_NaN_temp\n",
    "low_con_idx = df_NaN_subset[~df_NaN_subset.index.isin(high_confidence_idx)].index\n",
    "low_con_idx"
   ]
  },
  {
   "cell_type": "code",
   "execution_count": 49,
   "metadata": {},
   "outputs": [
    {
     "name": "stdout",
     "output_type": "stream",
     "text": [
      "(584, 46)\n"
     ]
    },
    {
     "data": {
      "text/plain": [
       "(614, 46)"
      ]
     },
     "execution_count": 49,
     "metadata": {},
     "output_type": "execute_result"
    }
   ],
   "source": [
    "print(df_NaN_temp.shape)\n",
    "df_NaN_temp = pd.concat([df_NaN_temp,df_NaN_subset.loc[low_con_idx]])\n",
    "df_NaN_temp.shape"
   ]
  },
  {
   "cell_type": "code",
   "execution_count": null,
   "metadata": {},
   "outputs": [],
   "source": []
  },
  {
   "cell_type": "code",
   "execution_count": 50,
   "metadata": {},
   "outputs": [],
   "source": [
    "def Pseudo_labeling(df_train, df_NaN, LogReg_HPTune_w_OverSam, n_sam = 100, verbose=0):\n",
    "    \n",
    "    print(\"Initiate base model from training set....\")\n",
    "    # Training set\n",
    "    X_encoded = df_train.drop(['Drug_Rechallenge_Result','Patient_ID'], axis=1)\n",
    "    y_data = df_train[['Drug_Rechallenge_Result']]\n",
    "    \n",
    "    print(X_encoded.shape)\n",
    "    print(y_data.shape)\n",
    "    \n",
    "    score_param = 'accuracy' # Score for tune model\n",
    "    n_iter_search = 100 # Max candidate parameter for RandomizedSearchCV\n",
    "    cv = 5 # Number of k-fold cross validation\n",
    "    LogReg_rs, LogReg_gs = LogReg_HPTune_w_OverSam(X_encoded,y_data.values.ravel(), verbose=0)\n",
    "    \n",
    "    # Make a copy of df_NaN\n",
    "    df_NaN_temp = df_NaN.copy()\n",
    "    \n",
    "    n_sam = n_sam\n",
    "    n_min = n_sam\n",
    "    n_frac = n_sam\n",
    "    if type(n_sam) != int:\n",
    "        n_sam = n_frac * len(y_data)\n",
    "        n_min = 100\n",
    "    n_round = 0\n",
    "    \n",
    "    print(\"Start Active Learning Process\")\n",
    "    \n",
    "    while len(df_NaN_temp) > n_min and len(df_NaN_temp) > n_sam:\n",
    "        n_round += 1\n",
    "        print(\"Round: \", n_round, \"\\nProcessing....\")\n",
    "        \n",
    "        # Sampling n_sam sample to predict class and store idx with high confidence\n",
    "        if type(n_frac) != int:\n",
    "            n_sam = n_frac * len(y_data)\n",
    "        df_NaN_train = df_NaN_temp.sample(n = int(n_sam), random_state=7)\n",
    "        df_NaN_temp = df_NaN_temp.drop(df_NaN_train.index)\n",
    "        \n",
    "        X_encoded_NaN = df_NaN_train.drop(['Drug_Rechallenge_Result','Patient_ID'], axis=1)\n",
    "#         y_data_NaN = df_NaN_train[['Drug_Rechallenge_Result']]\n",
    "\n",
    "        # Search idx with high predict_proba\n",
    "        high_confidence_idx = []\n",
    "        predict_result = []\n",
    "        threshold_pos = 0.8\n",
    "        for idx in X_encoded_NaN.index:\n",
    "            Pos_confidence = LogReg_gs.predict_proba(X_encoded_NaN.loc[[idx]])[:,1]\n",
    "            if Pos_confidence > threshold_pos:\n",
    "                high_confidence_idx.append(idx)\n",
    "                predict_class = LogReg_gs.predict(X_encoded_NaN.loc[[idx]])\n",
    "                predict_result.append(predict_class)\n",
    "            elif Pos_confidence < (1-threshold_pos):\n",
    "                high_confidence_idx.append(idx)\n",
    "                predict_class = LogReg_gs.predict(X_encoded_NaN.loc[[idx]])\n",
    "                predict_result.append(predict_class)\n",
    "\n",
    "        # Create dataframe to store high confidence result\n",
    "        df_feature_NaN = X_encoded_NaN.loc[high_confidence_idx]\n",
    "        df_predict_NaN = pd.DataFrame(predict_result, columns=['Drug_Rechallenge_Result'], index=high_confidence_idx)\n",
    "\n",
    "        # Concat new predicted data to X_encoded and y_data\n",
    "        X_encoded = pd.concat([X_encoded,df_feature_NaN])\n",
    "        y_data = pd.concat([y_data,df_predict_NaN])\n",
    "        \n",
    "        print(X_encoded.shape)\n",
    "        print(y_data.shape)\n",
    "\n",
    "        # GridSearch CV - Retraining\n",
    "        score_param = 'accuracy' # Score for tune model\n",
    "        n_iter_search = 100 # Max candidate parameter for RandomizedSearchCV\n",
    "        cv = 5 # Number of k-fold cross validation\n",
    "        LogReg_rs, LogReg_gs = LogReg_HPTune_w_OverSam(X_encoded,y_data.values.ravel(), verbose=0)\n",
    "\n",
    "        # Append row which has low confident to df_NaN_temp\n",
    "        low_con_idx = df_NaN_train[~df_NaN_train.index.isin(high_confidence_idx)].index\n",
    "        df_NaN_temp = pd.concat([df_NaN_temp,df_NaN_train.loc[low_con_idx]])\n",
    "        \n",
    "        # Display performance of each round\n",
    "        print('Training score: ', LogReg_rs.best_score_)\n",
    "        print('Test score: ', accuracy_score(LogReg_rs.predict(X_encoded_test),y_data_test))\n",
    "        \n",
    "    # If the rest NaN sample less than n_sam\n",
    "    df_NaN_train = df_NaN_temp\n",
    "    X_encoded_NaN = df_NaN_train.drop(['Drug_Rechallenge_Result','Patient_ID'], axis=1)\n",
    "    predict_class = LogReg_gs.predict(X_encoded_NaN)\n",
    "    df_predict_NaN = pd.DataFrame(predict_class, columns=['Drug_Rechallenge_Result'], index=X_encoded_NaN.index)\n",
    "    \n",
    "    # Concat new predicted data to X_encoded and y_data\n",
    "    X_encoded = pd.concat([X_encoded,X_encoded_NaN])\n",
    "    y_data = pd.concat([y_data,df_predict_NaN])   \n",
    "    \n",
    "    print(\"=========== Finish ===========\")\n",
    "    print(X_encoded.shape)\n",
    "    print(y_data.shape)\n",
    "    \n",
    "    return X_encoded, y_data, LogReg_gs\n",
    "\n"
   ]
  },
  {
   "cell_type": "code",
   "execution_count": 51,
   "metadata": {},
   "outputs": [],
   "source": [
    "score_param = 'accuracy' # Score for tune model\n",
    "n_iter_search = 3 # Max candidate parameter for RandomizedSearchCV\n",
    "cv = 5 # Number of k-fold cross validation"
   ]
  },
  {
   "cell_type": "code",
   "execution_count": 52,
   "metadata": {},
   "outputs": [
    {
     "name": "stdout",
     "output_type": "stream",
     "text": [
      "Initiate base model from training set....\n",
      "(94, 44)\n",
      "(94, 1)\n",
      "Start Active Learning Process\n",
      "Round:  1 \n",
      "Processing....\n",
      "(132, 44)\n",
      "(132, 1)\n"
     ]
    },
    {
     "name": "stderr",
     "output_type": "stream",
     "text": [
      "/Users/PLoTAir/opt/anaconda3/envs/DS_project/lib/python3.7/site-packages/sklearn/linear_model/_logistic.py:940: ConvergenceWarning: lbfgs failed to converge (status=1):\n",
      "STOP: TOTAL NO. of ITERATIONS REACHED LIMIT.\n",
      "\n",
      "Increase the number of iterations (max_iter) or scale the data as shown in:\n",
      "    https://scikit-learn.org/stable/modules/preprocessing.html\n",
      "Please also refer to the documentation for alternative solver options:\n",
      "    https://scikit-learn.org/stable/modules/linear_model.html#logistic-regression\n",
      "  extra_warning_msg=_LOGISTIC_SOLVER_CONVERGENCE_MSG)\n"
     ]
    },
    {
     "name": "stdout",
     "output_type": "stream",
     "text": [
      "Training score:  0.8812785388127854\n",
      "Test score:  0.65\n",
      "Round:  2 \n",
      "Processing....\n",
      "(174, 44)\n",
      "(174, 1)\n",
      "Training score:  0.9139072847682119\n",
      "Test score:  0.7\n",
      "Round:  3 \n",
      "Processing....\n",
      "(217, 44)\n",
      "(217, 1)\n",
      "Training score:  0.935656836461126\n",
      "Test score:  0.7\n",
      "Round:  4 \n",
      "Processing....\n",
      "(282, 44)\n",
      "(282, 1)\n",
      "Training score:  0.9537815126050421\n",
      "Test score:  0.7\n",
      "Round:  5 \n",
      "Processing....\n",
      "(363, 44)\n",
      "(363, 1)\n"
     ]
    },
    {
     "name": "stderr",
     "output_type": "stream",
     "text": [
      "/Users/PLoTAir/opt/anaconda3/envs/DS_project/lib/python3.7/site-packages/sklearn/linear_model/_logistic.py:940: ConvergenceWarning: lbfgs failed to converge (status=1):\n",
      "STOP: TOTAL NO. of ITERATIONS REACHED LIMIT.\n",
      "\n",
      "Increase the number of iterations (max_iter) or scale the data as shown in:\n",
      "    https://scikit-learn.org/stable/modules/preprocessing.html\n",
      "Please also refer to the documentation for alternative solver options:\n",
      "    https://scikit-learn.org/stable/modules/linear_model.html#logistic-regression\n",
      "  extra_warning_msg=_LOGISTIC_SOLVER_CONVERGENCE_MSG)\n",
      "/Users/PLoTAir/opt/anaconda3/envs/DS_project/lib/python3.7/site-packages/sklearn/linear_model/_logistic.py:940: ConvergenceWarning: lbfgs failed to converge (status=1):\n",
      "STOP: TOTAL NO. of ITERATIONS REACHED LIMIT.\n",
      "\n",
      "Increase the number of iterations (max_iter) or scale the data as shown in:\n",
      "    https://scikit-learn.org/stable/modules/preprocessing.html\n",
      "Please also refer to the documentation for alternative solver options:\n",
      "    https://scikit-learn.org/stable/modules/linear_model.html#logistic-regression\n",
      "  extra_warning_msg=_LOGISTIC_SOLVER_CONVERGENCE_MSG)\n"
     ]
    },
    {
     "name": "stdout",
     "output_type": "stream",
     "text": [
      "Training score:  0.9704918032786886\n",
      "Test score:  0.7\n",
      "Round:  6 \n",
      "Processing....\n",
      "(502, 44)\n",
      "(502, 1)\n"
     ]
    },
    {
     "name": "stderr",
     "output_type": "stream",
     "text": [
      "/Users/PLoTAir/opt/anaconda3/envs/DS_project/lib/python3.7/site-packages/sklearn/linear_model/_logistic.py:940: ConvergenceWarning: lbfgs failed to converge (status=1):\n",
      "STOP: TOTAL NO. of ITERATIONS REACHED LIMIT.\n",
      "\n",
      "Increase the number of iterations (max_iter) or scale the data as shown in:\n",
      "    https://scikit-learn.org/stable/modules/preprocessing.html\n",
      "Please also refer to the documentation for alternative solver options:\n",
      "    https://scikit-learn.org/stable/modules/linear_model.html#logistic-regression\n",
      "  extra_warning_msg=_LOGISTIC_SOLVER_CONVERGENCE_MSG)\n"
     ]
    },
    {
     "name": "stdout",
     "output_type": "stream",
     "text": [
      "Training score:  0.981640146878825\n",
      "Test score:  0.7\n",
      "Round:  7 \n",
      "Processing....\n",
      "(672, 44)\n",
      "(672, 1)\n"
     ]
    },
    {
     "name": "stderr",
     "output_type": "stream",
     "text": [
      "/Users/PLoTAir/opt/anaconda3/envs/DS_project/lib/python3.7/site-packages/sklearn/linear_model/_logistic.py:940: ConvergenceWarning: lbfgs failed to converge (status=1):\n",
      "STOP: TOTAL NO. of ITERATIONS REACHED LIMIT.\n",
      "\n",
      "Increase the number of iterations (max_iter) or scale the data as shown in:\n",
      "    https://scikit-learn.org/stable/modules/preprocessing.html\n",
      "Please also refer to the documentation for alternative solver options:\n",
      "    https://scikit-learn.org/stable/modules/linear_model.html#logistic-regression\n",
      "  extra_warning_msg=_LOGISTIC_SOLVER_CONVERGENCE_MSG)\n"
     ]
    },
    {
     "name": "stdout",
     "output_type": "stream",
     "text": [
      "Training score:  0.9882583170254403\n",
      "Test score:  0.7\n",
      "=========== Finish ===========\n",
      "(778, 44)\n",
      "(778, 1)\n",
      "Execution time =  528.4582660198212  seconds\n"
     ]
    },
    {
     "name": "stderr",
     "output_type": "stream",
     "text": [
      "/Users/PLoTAir/opt/anaconda3/envs/DS_project/lib/python3.7/site-packages/sklearn/linear_model/_logistic.py:940: ConvergenceWarning: lbfgs failed to converge (status=1):\n",
      "STOP: TOTAL NO. of ITERATIONS REACHED LIMIT.\n",
      "\n",
      "Increase the number of iterations (max_iter) or scale the data as shown in:\n",
      "    https://scikit-learn.org/stable/modules/preprocessing.html\n",
      "Please also refer to the documentation for alternative solver options:\n",
      "    https://scikit-learn.org/stable/modules/linear_model.html#logistic-regression\n",
      "  extra_warning_msg=_LOGISTIC_SOLVER_CONVERGENCE_MSG)\n"
     ]
    }
   ],
   "source": [
    "start = time()\n",
    "\n",
    "X_encoded_new, y_data_new, LogReg_gs_final = Pseudo_labeling(df_train, df_NaN, LogReg_HPTune_w_OverSam, n_sam = 0.5)\n",
    "\n",
    "t = time() - start\n",
    "print('Execution time = ', t, ' seconds')"
   ]
  },
  {
   "cell_type": "code",
   "execution_count": 53,
   "metadata": {},
   "outputs": [
    {
     "data": {
      "text/plain": [
       "<matplotlib.axes._subplots.AxesSubplot at 0x1a338679d0>"
      ]
     },
     "execution_count": 53,
     "metadata": {},
     "output_type": "execute_result"
    },
    {
     "data": {
      "image/png": "[encoded data removed]",
      "text/plain": [
       "<Figure size 1008x576 with 1 Axes>"
      ]
     },
     "metadata": {},
     "output_type": "display_data"
    }
   ],
   "source": [
    "percent_countplot(y_data, col_name='Drug_Rechallenge_Result')"
   ]
  },
  {
   "cell_type": "code",
   "execution_count": 54,
   "metadata": {},
   "outputs": [
    {
     "data": {
      "text/plain": [
       "<matplotlib.axes._subplots.AxesSubplot at 0x1a21a443d0>"
      ]
     },
     "execution_count": 54,
     "metadata": {},
     "output_type": "execute_result"
    },
    {
     "data": {
      "image/png": "[encoded data removed]",
      "text/plain": [
       "<Figure size 1008x576 with 1 Axes>"
      ]
     },
     "metadata": {},
     "output_type": "display_data"
    }
   ],
   "source": [
    "# Counter(y_data_new.Drug_Rechallenge_Result)\n",
    "percent_countplot(y_data_new, col_name='Drug_Rechallenge_Result')"
   ]
  },
  {
   "cell_type": "code",
   "execution_count": 55,
   "metadata": {},
   "outputs": [
    {
     "name": "stdout",
     "output_type": "stream",
     "text": [
      "(778, 44)\n",
      "(778, 1)\n"
     ]
    }
   ],
   "source": [
    "print(X_encoded_new.shape)\n",
    "print(y_data_new.shape)"
   ]
  },
  {
   "cell_type": "code",
   "execution_count": 56,
   "metadata": {},
   "outputs": [
    {
     "name": "stdout",
     "output_type": "stream",
     "text": [
      "0.9902152641878669\n",
      "0.9902152641878669\n",
      "{'C': 25.595479226995334, 'fit_intercept': False}\n",
      "{'C': 25.595479226995334, 'fit_intercept': False}\n",
      "=========================\n",
      "Training set performance\n",
      " 0.000    550\n",
      "1.000    228\n",
      "Name: Drug_Rechallenge_Result, dtype: int64\n",
      "=========================\n",
      "              precision    recall  f1-score   support\n",
      "\n",
      "         0.0       1.00      0.99      0.99       556\n",
      "         1.0       0.96      0.99      0.98       222\n",
      "\n",
      "    accuracy                           0.99       778\n",
      "   macro avg       0.98      0.99      0.98       778\n",
      "weighted avg       0.99      0.99      0.99       778\n",
      "\n",
      "=========================\n",
      "Test set performance\n",
      " 0.000    10\n",
      "1.000    10\n",
      "Name: Drug_Rechallenge_Result, dtype: int64\n",
      "=========================\n",
      "              precision    recall  f1-score   support\n",
      "\n",
      "         0.0       0.70      0.70      0.70        10\n",
      "         1.0       0.70      0.70      0.70        10\n",
      "\n",
      "    accuracy                           0.70        20\n",
      "   macro avg       0.70      0.70      0.70        20\n",
      "weighted avg       0.70      0.70      0.70        20\n",
      "\n"
     ]
    },
    {
     "data": {
      "text/plain": [
       "LogisticRegression(C=25.595479226995334, class_weight=None, dual=False,\n",
       "                   fit_intercept=False, intercept_scaling=1, l1_ratio=None,\n",
       "                   max_iter=1000, multi_class='auto', n_jobs=None, penalty='l2',\n",
       "                   random_state=7, solver='lbfgs', tol=0.0001, verbose=0,\n",
       "                   warm_start=False)"
      ]
     },
     "execution_count": 56,
     "metadata": {},
     "output_type": "execute_result"
    }
   ],
   "source": [
    "print(LogReg_gs_final.best_score_)\n",
    "print(LogReg_gs_final.best_score_)\n",
    "print(LogReg_gs_final.best_params_)\n",
    "print(LogReg_gs_final.best_params_)\n",
    "\n",
    "print('='*25)\n",
    "print('Training set performance\\n', y_data_new.Drug_Rechallenge_Result.value_counts())\n",
    "print('='*25)\n",
    "print(classification_report(LogReg_gs_final.predict(X_encoded_new),y_data_new))\n",
    "\n",
    "print('='*25)\n",
    "print('Test set performance\\n', y_data_test.Drug_Rechallenge_Result.value_counts())\n",
    "print('='*25)\n",
    "print(classification_report(LogReg_gs_final.predict(X_encoded_test),y_data_test))\n",
    "LogReg_gs_final.best_estimator_"
   ]
  },
  {
   "cell_type": "code",
   "execution_count": 57,
   "metadata": {},
   "outputs": [
    {
     "name": "stdout",
     "output_type": "stream",
     "text": [
      "(20, 44)\n",
      "(20, 1)\n"
     ]
    }
   ],
   "source": [
    "print(X_encoded_test.shape)\n",
    "print(y_data_test.shape)"
   ]
  },
  {
   "cell_type": "markdown",
   "metadata": {},
   "source": [
    "# Final result "
   ]
  },
  {
   "cell_type": "code",
   "execution_count": 58,
   "metadata": {},
   "outputs": [
    {
     "data": {
      "text/html": [
       "<div>\n",
       "<style scoped>\n",
       "    .dataframe tbody tr th:only-of-type {\n",
       "        vertical-align: middle;\n",
       "    }\n",
       "\n",
       "    .dataframe tbody tr th {\n",
       "        vertical-align: top;\n",
       "    }\n",
       "\n",
       "    .dataframe thead th {\n",
       "        text-align: right;\n",
       "    }\n",
       "</style>\n",
       "<table border=\"1\" class=\"dataframe\">\n",
       "  <thead>\n",
       "    <tr style=\"text-align: right;\">\n",
       "      <th></th>\n",
       "      <th>Patient_ID</th>\n",
       "      <th>Age_Year</th>\n",
       "      <th>ELISpot_Control</th>\n",
       "      <th>ELISpot_Result</th>\n",
       "      <th>Gender_0</th>\n",
       "      <th>Gender_1</th>\n",
       "      <th>Naranjo_Category_0</th>\n",
       "      <th>Naranjo_Category_1</th>\n",
       "      <th>Naranjo_Category_2</th>\n",
       "      <th>Naranjo_Category_3</th>\n",
       "      <th>Steroid_Usage_0</th>\n",
       "      <th>Steroid_Usage_1</th>\n",
       "      <th>Underlying_Condition_A_0</th>\n",
       "      <th>Underlying_Condition_A_1</th>\n",
       "      <th>Underlying_Condition_B_0</th>\n",
       "      <th>Underlying_Condition_B_1</th>\n",
       "      <th>Underlying_Condition_C_0</th>\n",
       "      <th>Underlying_Condition_C_1</th>\n",
       "      <th>Underlying_Condition_D_0</th>\n",
       "      <th>Underlying_Condition_D_1</th>\n",
       "      <th>Underlying_Condition_E_0</th>\n",
       "      <th>Underlying_Condition_E_1</th>\n",
       "      <th>Suspicion_Score_1</th>\n",
       "      <th>Suspicion_Score_2</th>\n",
       "      <th>Suspicion_Score_3</th>\n",
       "      <th>Allergic_Reaction_Group_1</th>\n",
       "      <th>Allergic_Reaction_Group_2</th>\n",
       "      <th>Allergic_Reaction_Group_3</th>\n",
       "      <th>Allergic_Reaction_Group_4</th>\n",
       "      <th>Allergic_Reaction_Group_5</th>\n",
       "      <th>Allergic_Reaction_Group_6</th>\n",
       "      <th>Allergic_Reaction_Group_7</th>\n",
       "      <th>Allergic_Reaction_Group_8</th>\n",
       "      <th>Drug_Group_1</th>\n",
       "      <th>Drug_Group_2</th>\n",
       "      <th>Drug_Group_3</th>\n",
       "      <th>Drug_Group_4</th>\n",
       "      <th>Drug_Group_5</th>\n",
       "      <th>Drug_Group_6</th>\n",
       "      <th>Drug_Group_7</th>\n",
       "      <th>Drug_Group_8</th>\n",
       "      <th>Ex_Time_group_0</th>\n",
       "      <th>Ex_Time_group_1</th>\n",
       "      <th>Ex_Time_group_2</th>\n",
       "      <th>Ex_Time_group_3</th>\n",
       "      <th>Drug_Rechallenge_Result</th>\n",
       "    </tr>\n",
       "  </thead>\n",
       "  <tbody>\n",
       "    <tr>\n",
       "      <th>0</th>\n",
       "      <td>2</td>\n",
       "      <td>26.000</td>\n",
       "      <td>2504.000</td>\n",
       "      <td>0.000</td>\n",
       "      <td>0.000</td>\n",
       "      <td>1.000</td>\n",
       "      <td>0.000</td>\n",
       "      <td>1.000</td>\n",
       "      <td>0.000</td>\n",
       "      <td>0.000</td>\n",
       "      <td>0.000</td>\n",
       "      <td>1.000</td>\n",
       "      <td>1.000</td>\n",
       "      <td>0.000</td>\n",
       "      <td>1.000</td>\n",
       "      <td>0.000</td>\n",
       "      <td>1.000</td>\n",
       "      <td>0.000</td>\n",
       "      <td>1.000</td>\n",
       "      <td>0.000</td>\n",
       "      <td>1.000</td>\n",
       "      <td>0.000</td>\n",
       "      <td>0.000</td>\n",
       "      <td>1.000</td>\n",
       "      <td>0.000</td>\n",
       "      <td>0.000</td>\n",
       "      <td>1.000</td>\n",
       "      <td>0.000</td>\n",
       "      <td>0.000</td>\n",
       "      <td>0.000</td>\n",
       "      <td>0.000</td>\n",
       "      <td>0.000</td>\n",
       "      <td>0.000</td>\n",
       "      <td>0.000</td>\n",
       "      <td>1.000</td>\n",
       "      <td>0.000</td>\n",
       "      <td>0.000</td>\n",
       "      <td>0.000</td>\n",
       "      <td>0.000</td>\n",
       "      <td>0.000</td>\n",
       "      <td>0.000</td>\n",
       "      <td>1.000</td>\n",
       "      <td>0.000</td>\n",
       "      <td>0.000</td>\n",
       "      <td>0.000</td>\n",
       "      <td>1.000</td>\n",
       "    </tr>\n",
       "    <tr>\n",
       "      <th>1</th>\n",
       "      <td>7</td>\n",
       "      <td>75.000</td>\n",
       "      <td>1868.000</td>\n",
       "      <td>51.000</td>\n",
       "      <td>1.000</td>\n",
       "      <td>0.000</td>\n",
       "      <td>0.000</td>\n",
       "      <td>0.000</td>\n",
       "      <td>1.000</td>\n",
       "      <td>0.000</td>\n",
       "      <td>1.000</td>\n",
       "      <td>0.000</td>\n",
       "      <td>1.000</td>\n",
       "      <td>0.000</td>\n",
       "      <td>1.000</td>\n",
       "      <td>0.000</td>\n",
       "      <td>1.000</td>\n",
       "      <td>0.000</td>\n",
       "      <td>1.000</td>\n",
       "      <td>0.000</td>\n",
       "      <td>1.000</td>\n",
       "      <td>0.000</td>\n",
       "      <td>0.000</td>\n",
       "      <td>1.000</td>\n",
       "      <td>0.000</td>\n",
       "      <td>0.000</td>\n",
       "      <td>0.000</td>\n",
       "      <td>0.000</td>\n",
       "      <td>0.000</td>\n",
       "      <td>0.000</td>\n",
       "      <td>1.000</td>\n",
       "      <td>0.000</td>\n",
       "      <td>0.000</td>\n",
       "      <td>0.000</td>\n",
       "      <td>0.000</td>\n",
       "      <td>0.000</td>\n",
       "      <td>1.000</td>\n",
       "      <td>0.000</td>\n",
       "      <td>0.000</td>\n",
       "      <td>0.000</td>\n",
       "      <td>0.000</td>\n",
       "      <td>1.000</td>\n",
       "      <td>0.000</td>\n",
       "      <td>0.000</td>\n",
       "      <td>0.000</td>\n",
       "      <td>1.000</td>\n",
       "    </tr>\n",
       "    <tr>\n",
       "      <th>2</th>\n",
       "      <td>13</td>\n",
       "      <td>81.000</td>\n",
       "      <td>1617.000</td>\n",
       "      <td>10.000</td>\n",
       "      <td>1.000</td>\n",
       "      <td>0.000</td>\n",
       "      <td>0.000</td>\n",
       "      <td>1.000</td>\n",
       "      <td>0.000</td>\n",
       "      <td>0.000</td>\n",
       "      <td>0.000</td>\n",
       "      <td>1.000</td>\n",
       "      <td>0.000</td>\n",
       "      <td>1.000</td>\n",
       "      <td>1.000</td>\n",
       "      <td>0.000</td>\n",
       "      <td>1.000</td>\n",
       "      <td>0.000</td>\n",
       "      <td>0.000</td>\n",
       "      <td>1.000</td>\n",
       "      <td>0.000</td>\n",
       "      <td>1.000</td>\n",
       "      <td>0.000</td>\n",
       "      <td>1.000</td>\n",
       "      <td>0.000</td>\n",
       "      <td>0.000</td>\n",
       "      <td>0.000</td>\n",
       "      <td>0.000</td>\n",
       "      <td>0.000</td>\n",
       "      <td>1.000</td>\n",
       "      <td>0.000</td>\n",
       "      <td>0.000</td>\n",
       "      <td>0.000</td>\n",
       "      <td>1.000</td>\n",
       "      <td>0.000</td>\n",
       "      <td>0.000</td>\n",
       "      <td>0.000</td>\n",
       "      <td>0.000</td>\n",
       "      <td>0.000</td>\n",
       "      <td>0.000</td>\n",
       "      <td>0.000</td>\n",
       "      <td>1.000</td>\n",
       "      <td>0.000</td>\n",
       "      <td>0.000</td>\n",
       "      <td>0.000</td>\n",
       "      <td>1.000</td>\n",
       "    </tr>\n",
       "    <tr>\n",
       "      <th>3</th>\n",
       "      <td>13</td>\n",
       "      <td>81.000</td>\n",
       "      <td>1617.000</td>\n",
       "      <td>10.000</td>\n",
       "      <td>1.000</td>\n",
       "      <td>0.000</td>\n",
       "      <td>0.000</td>\n",
       "      <td>1.000</td>\n",
       "      <td>0.000</td>\n",
       "      <td>0.000</td>\n",
       "      <td>0.000</td>\n",
       "      <td>1.000</td>\n",
       "      <td>0.000</td>\n",
       "      <td>1.000</td>\n",
       "      <td>1.000</td>\n",
       "      <td>0.000</td>\n",
       "      <td>1.000</td>\n",
       "      <td>0.000</td>\n",
       "      <td>0.000</td>\n",
       "      <td>1.000</td>\n",
       "      <td>0.000</td>\n",
       "      <td>1.000</td>\n",
       "      <td>0.000</td>\n",
       "      <td>1.000</td>\n",
       "      <td>0.000</td>\n",
       "      <td>0.000</td>\n",
       "      <td>0.000</td>\n",
       "      <td>0.000</td>\n",
       "      <td>0.000</td>\n",
       "      <td>1.000</td>\n",
       "      <td>0.000</td>\n",
       "      <td>0.000</td>\n",
       "      <td>0.000</td>\n",
       "      <td>0.000</td>\n",
       "      <td>0.000</td>\n",
       "      <td>1.000</td>\n",
       "      <td>0.000</td>\n",
       "      <td>0.000</td>\n",
       "      <td>0.000</td>\n",
       "      <td>0.000</td>\n",
       "      <td>0.000</td>\n",
       "      <td>1.000</td>\n",
       "      <td>0.000</td>\n",
       "      <td>0.000</td>\n",
       "      <td>0.000</td>\n",
       "      <td>1.000</td>\n",
       "    </tr>\n",
       "    <tr>\n",
       "      <th>4</th>\n",
       "      <td>18</td>\n",
       "      <td>60.000</td>\n",
       "      <td>3136.000</td>\n",
       "      <td>0.000</td>\n",
       "      <td>0.000</td>\n",
       "      <td>1.000</td>\n",
       "      <td>0.000</td>\n",
       "      <td>1.000</td>\n",
       "      <td>0.000</td>\n",
       "      <td>0.000</td>\n",
       "      <td>1.000</td>\n",
       "      <td>0.000</td>\n",
       "      <td>1.000</td>\n",
       "      <td>0.000</td>\n",
       "      <td>1.000</td>\n",
       "      <td>0.000</td>\n",
       "      <td>1.000</td>\n",
       "      <td>0.000</td>\n",
       "      <td>0.000</td>\n",
       "      <td>1.000</td>\n",
       "      <td>0.000</td>\n",
       "      <td>1.000</td>\n",
       "      <td>0.000</td>\n",
       "      <td>0.000</td>\n",
       "      <td>1.000</td>\n",
       "      <td>0.000</td>\n",
       "      <td>0.000</td>\n",
       "      <td>0.000</td>\n",
       "      <td>0.000</td>\n",
       "      <td>0.000</td>\n",
       "      <td>0.000</td>\n",
       "      <td>0.000</td>\n",
       "      <td>1.000</td>\n",
       "      <td>1.000</td>\n",
       "      <td>0.000</td>\n",
       "      <td>0.000</td>\n",
       "      <td>0.000</td>\n",
       "      <td>0.000</td>\n",
       "      <td>0.000</td>\n",
       "      <td>0.000</td>\n",
       "      <td>0.000</td>\n",
       "      <td>1.000</td>\n",
       "      <td>0.000</td>\n",
       "      <td>0.000</td>\n",
       "      <td>0.000</td>\n",
       "      <td>0.000</td>\n",
       "    </tr>\n",
       "  </tbody>\n",
       "</table>\n",
       "</div>"
      ],
      "text/plain": [
       "   Patient_ID  Age_Year  ELISpot_Control  ELISpot_Result  Gender_0  Gender_1  Naranjo_Category_0  Naranjo_Category_1  Naranjo_Category_2  Naranjo_Category_3  Steroid_Usage_0  Steroid_Usage_1  Underlying_Condition_A_0  Underlying_Condition_A_1  Underlying_Condition_B_0  Underlying_Condition_B_1  Underlying_Condition_C_0  Underlying_Condition_C_1  Underlying_Condition_D_0  Underlying_Condition_D_1  Underlying_Condition_E_0  Underlying_Condition_E_1  Suspicion_Score_1  Suspicion_Score_2  Suspicion_Score_3  Allergic_Reaction_Group_1  Allergic_Reaction_Group_2  Allergic_Reaction_Group_3  Allergic_Reaction_Group_4  Allergic_Reaction_Group_5  Allergic_Reaction_Group_6  Allergic_Reaction_Group_7  Allergic_Reaction_Group_8  Drug_Group_1  Drug_Group_2  Drug_Group_3  Drug_Group_4  Drug_Group_5  Drug_Group_6  Drug_Group_7  Drug_Group_8  Ex_Time_group_0  Ex_Time_group_1  Ex_Time_group_2  Ex_Time_group_3  Drug_Rechallenge_Result\n",
       "0  2          26.000    2504.000         0.000           0.000     1.000     0.000               1.000               0.000               0.000               0.000            1.000            1.000                     0.000                     1.000                     0.000                     1.000                     0.000                     1.000                     0.000                     1.000                     0.000                     0.000              1.000              0.000              0.000                      1.000                      0.000                      0.000                      0.000                      0.000                      0.000                      0.000                      0.000         1.000         0.000         0.000         0.000         0.000         0.000         0.000         1.000            0.000            0.000            0.000            1.000                   \n",
       "1  7          75.000    1868.000         51.000          1.000     0.000     0.000               0.000               1.000               0.000               1.000            0.000            1.000                     0.000                     1.000                     0.000                     1.000                     0.000                     1.000                     0.000                     1.000                     0.000                     0.000              1.000              0.000              0.000                      0.000                      0.000                      0.000                      0.000                      1.000                      0.000                      0.000                      0.000         0.000         0.000         1.000         0.000         0.000         0.000         0.000         1.000            0.000            0.000            0.000            1.000                   \n",
       "2  13         81.000    1617.000         10.000          1.000     0.000     0.000               1.000               0.000               0.000               0.000            1.000            0.000                     1.000                     1.000                     0.000                     1.000                     0.000                     0.000                     1.000                     0.000                     1.000                     0.000              1.000              0.000              0.000                      0.000                      0.000                      0.000                      1.000                      0.000                      0.000                      0.000                      1.000         0.000         0.000         0.000         0.000         0.000         0.000         0.000         1.000            0.000            0.000            0.000            1.000                   \n",
       "3  13         81.000    1617.000         10.000          1.000     0.000     0.000               1.000               0.000               0.000               0.000            1.000            0.000                     1.000                     1.000                     0.000                     1.000                     0.000                     0.000                     1.000                     0.000                     1.000                     0.000              1.000              0.000              0.000                      0.000                      0.000                      0.000                      1.000                      0.000                      0.000                      0.000                      0.000         0.000         1.000         0.000         0.000         0.000         0.000         0.000         1.000            0.000            0.000            0.000            1.000                   \n",
       "4  18         60.000    3136.000         0.000           0.000     1.000     0.000               1.000               0.000               0.000               1.000            0.000            1.000                     0.000                     1.000                     0.000                     1.000                     0.000                     0.000                     1.000                     0.000                     1.000                     0.000              0.000              1.000              0.000                      0.000                      0.000                      0.000                      0.000                      0.000                      0.000                      1.000                      1.000         0.000         0.000         0.000         0.000         0.000         0.000         0.000         1.000            0.000            0.000            0.000            0.000                   "
      ]
     },
     "execution_count": 58,
     "metadata": {},
     "output_type": "execute_result"
    }
   ],
   "source": [
    "# Concat X_encoded_new and y_data_new \n",
    "df_final = pd.concat([X_encoded_new, y_data_new],axis=1).sort_index()\n",
    "df_final = pd.concat([df['Patient_ID'],df_final],axis=1)\n",
    "df_final.head()"
   ]
  },
  {
   "cell_type": "code",
   "execution_count": 59,
   "metadata": {},
   "outputs": [],
   "source": [
    "# save the model to disk\n",
    "filename = './Model/LogReg_gs_active.pkl'\n",
    "pickle.dump(LogReg_gs_final, open(filename, 'wb'))\n",
    "\n",
    "# Load the model to disk\n",
    "# filename = './Model/LogReg_gs_active.pkl'\n",
    "# Logreg_Model = pickle.load(open(filename,\"rb\"))"
   ]
  },
  {
   "cell_type": "code",
   "execution_count": 60,
   "metadata": {},
   "outputs": [
    {
     "data": {
      "text/plain": [
       "[('Suspicion_Score_2', 8.992123672745603),\n",
       " ('Drug_Group_2', 3.230365059583836),\n",
       " ('Ex_Time_group_0', 2.5271528943565613),\n",
       " ('Allergic_Reaction_Group_2', 2.2915952830316764),\n",
       " ('Allergic_Reaction_Group_8', 2.1945333895577654),\n",
       " ('Drug_Group_4', 1.5313768603407871),\n",
       " ('Allergic_Reaction_Group_5', 1.4054712027281355),\n",
       " ('Drug_Group_5', 1.0879478999446817),\n",
       " ('Underlying_Condition_A_1', 0.8572066098922598),\n",
       " ('Drug_Group_6', 0.6737500958429447),\n",
       " ('Naranjo_Category_2', 0.4561750527804478),\n",
       " ('Allergic_Reaction_Group_4', 0.39489902169385793),\n",
       " ('Naranjo_Category_3', 0.25359625105651934),\n",
       " ('Underlying_Condition_D_0', 0.17701155754786377),\n",
       " ('ELISpot_Result', 0.05834729452885141)]"
      ]
     },
     "metadata": {},
     "output_type": "display_data"
    }
   ],
   "source": [
    "coef_dict = {}\n",
    "coef_dict['intercept'] = LogReg_gs_final.best_estimator_.intercept_.ravel()[0]\n",
    "for coef, feat in zip(LogReg_gs_final.best_estimator_.coef_.ravel(),X_encoded_new.columns):\n",
    "    coef_dict[feat] = coef\n",
    "display(sorted(coef_dict.items(), key= lambda kv:kv[1], reverse=True)[:15])"
   ]
  },
  {
   "cell_type": "raw",
   "metadata": {},
   "source": [
    "# Without standardscaler PCA and dummie,keep:false fit_intercept:false\n",
    "\n",
    "0.9883154819863681\n",
    "0.9883154819863681\n",
    "{'C': 10.0}\n",
    "{'C': 10.0}\n",
    "=========================\n",
    "Training set performance\n",
    "=========================\n",
    "              precision    recall  f1-score   support\n",
    "\n",
    "         0.0       1.00      0.99      0.99       570\n",
    "         1.0       0.96      0.99      0.98       208\n",
    "\n",
    "    accuracy                           0.99       778\n",
    "   macro avg       0.98      0.99      0.98       778\n",
    "weighted avg       0.99      0.99      0.99       778\n",
    "\n",
    "=========================\n",
    "Test set performance\n",
    "=========================\n",
    "              precision    recall  f1-score   support\n",
    "\n",
    "         0.0       0.70      0.70      0.70        10\n",
    "         1.0       0.70      0.70      0.70        10\n",
    "\n",
    "    accuracy                           0.70        20\n",
    "   macro avg       0.70      0.70      0.70        20\n",
    "weighted avg       0.70      0.70      0.70        20\n",
    "\n",
    "[('Suspicion_Score_2', 6.787992796705839),\n",
    " ('Drug_Group_2', 3.0395238915966596),\n",
    " ('Ex_Time_group_0', 2.484262740568728),\n",
    " ('Allergic_Reaction_Group_2.0', 2.2659830133264833),\n",
    " ('Allergic_Reaction_Group_5.0', 1.452737782928212),\n",
    " ('Underlying_Condition_A_1.0', 1.176490379196819),\n",
    " ('Naranjo_Category_2.0', 1.031124562659352),\n",
    " ('Allergic_Reaction_Group_4.0', 0.9221611093320637),\n",
    " ('Drug_Group_6', 0.7011471001313174),\n",
    " ('Drug_Group_5', 0.5297317102945268),\n",
    " ('Drug_Group_4', 0.22399108837277962),\n",
    " ('Underlying_Condition_D_0.0', 0.21773064137660988),\n",
    " ('Naranjo_Category_3.0', 0.17945388501690282),\n",
    " ('ELISpot_Result', 0.0637417740899267),\n",
    " ('ELISpot_Control', 0.0017426737676169964)]"
   ]
  }
 ],
 "metadata": {
  "kernelspec": {
   "display_name": "Python 3",
   "language": "python",
   "name": "python3"
  },
  "language_info": {
   "codemirror_mode": {
    "name": "ipython",
    "version": 3
   },
   "file_extension": ".py",
   "mimetype": "text/x-python",
   "name": "python",
   "nbconvert_exporter": "python",
   "pygments_lexer": "ipython3",
   "version": "3.7.5"
  }
 },
 "nbformat": 4,
 "nbformat_minor": 2
}
